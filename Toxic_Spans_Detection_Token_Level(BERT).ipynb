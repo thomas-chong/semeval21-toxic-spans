{
  "nbformat": 4,
  "nbformat_minor": 0,
  "metadata": {
    "accelerator": "GPU",
    "colab": {
      "name": "Toxic_Spans_Detection_Token_Level(BERT).ipynb",
      "provenance": [],
      "collapsed_sections": []
    },
    "kernelspec": {
      "display_name": "Python 3",
      "name": "python3"
    },
    "language_info": {
      "name": "python"
    },
    "widgets": {
      "application/vnd.jupyter.widget-state+json": {
        "cdc03f681d264146abe4e86317845d5b": {
          "model_module": "@jupyter-widgets/controls",
          "model_name": "HBoxModel",
          "state": {
            "_view_name": "HBoxView",
            "_dom_classes": [],
            "_model_name": "HBoxModel",
            "_view_module": "@jupyter-widgets/controls",
            "_model_module_version": "1.5.0",
            "_view_count": null,
            "_view_module_version": "1.5.0",
            "box_style": "",
            "layout": "IPY_MODEL_e3452fb860c248b78c1415adff85a919",
            "_model_module": "@jupyter-widgets/controls",
            "children": [
              "IPY_MODEL_054e621d79c84181931589d27c7183fa",
              "IPY_MODEL_26737e4ef3dd4a798b40c2b4d8370d4e"
            ]
          }
        },
        "e3452fb860c248b78c1415adff85a919": {
          "model_module": "@jupyter-widgets/base",
          "model_name": "LayoutModel",
          "state": {
            "_view_name": "LayoutView",
            "grid_template_rows": null,
            "right": null,
            "justify_content": null,
            "_view_module": "@jupyter-widgets/base",
            "overflow": null,
            "_model_module_version": "1.2.0",
            "_view_count": null,
            "flex_flow": null,
            "width": null,
            "min_width": null,
            "border": null,
            "align_items": null,
            "bottom": null,
            "_model_module": "@jupyter-widgets/base",
            "top": null,
            "grid_column": null,
            "overflow_y": null,
            "overflow_x": null,
            "grid_auto_flow": null,
            "grid_area": null,
            "grid_template_columns": null,
            "flex": null,
            "_model_name": "LayoutModel",
            "justify_items": null,
            "grid_row": null,
            "max_height": null,
            "align_content": null,
            "visibility": null,
            "align_self": null,
            "height": null,
            "min_height": null,
            "padding": null,
            "grid_auto_rows": null,
            "grid_gap": null,
            "max_width": null,
            "order": null,
            "_view_module_version": "1.2.0",
            "grid_template_areas": null,
            "object_position": null,
            "object_fit": null,
            "grid_auto_columns": null,
            "margin": null,
            "display": null,
            "left": null
          }
        },
        "054e621d79c84181931589d27c7183fa": {
          "model_module": "@jupyter-widgets/controls",
          "model_name": "FloatProgressModel",
          "state": {
            "_view_name": "ProgressView",
            "style": "IPY_MODEL_8b864f87214b402aa0cbd5f35362c485",
            "_dom_classes": [],
            "description": "Downloading: 100%",
            "_model_name": "FloatProgressModel",
            "bar_style": "success",
            "max": 898823,
            "_view_module": "@jupyter-widgets/controls",
            "_model_module_version": "1.5.0",
            "value": 898823,
            "_view_count": null,
            "_view_module_version": "1.5.0",
            "orientation": "horizontal",
            "min": 0,
            "description_tooltip": null,
            "_model_module": "@jupyter-widgets/controls",
            "layout": "IPY_MODEL_f956e0991cdf402487865db811b83519"
          }
        },
        "26737e4ef3dd4a798b40c2b4d8370d4e": {
          "model_module": "@jupyter-widgets/controls",
          "model_name": "HTMLModel",
          "state": {
            "_view_name": "HTMLView",
            "style": "IPY_MODEL_33b7946e9ee34532bb73d853525a189c",
            "_dom_classes": [],
            "description": "",
            "_model_name": "HTMLModel",
            "placeholder": "​",
            "_view_module": "@jupyter-widgets/controls",
            "_model_module_version": "1.5.0",
            "value": " 899k/899k [00:01&lt;00:00, 484kB/s]",
            "_view_count": null,
            "_view_module_version": "1.5.0",
            "description_tooltip": null,
            "_model_module": "@jupyter-widgets/controls",
            "layout": "IPY_MODEL_144897f1421c438da269049de8e3796a"
          }
        },
        "8b864f87214b402aa0cbd5f35362c485": {
          "model_module": "@jupyter-widgets/controls",
          "model_name": "ProgressStyleModel",
          "state": {
            "_view_name": "StyleView",
            "_model_name": "ProgressStyleModel",
            "description_width": "initial",
            "_view_module": "@jupyter-widgets/base",
            "_model_module_version": "1.5.0",
            "_view_count": null,
            "_view_module_version": "1.2.0",
            "bar_color": null,
            "_model_module": "@jupyter-widgets/controls"
          }
        },
        "f956e0991cdf402487865db811b83519": {
          "model_module": "@jupyter-widgets/base",
          "model_name": "LayoutModel",
          "state": {
            "_view_name": "LayoutView",
            "grid_template_rows": null,
            "right": null,
            "justify_content": null,
            "_view_module": "@jupyter-widgets/base",
            "overflow": null,
            "_model_module_version": "1.2.0",
            "_view_count": null,
            "flex_flow": null,
            "width": null,
            "min_width": null,
            "border": null,
            "align_items": null,
            "bottom": null,
            "_model_module": "@jupyter-widgets/base",
            "top": null,
            "grid_column": null,
            "overflow_y": null,
            "overflow_x": null,
            "grid_auto_flow": null,
            "grid_area": null,
            "grid_template_columns": null,
            "flex": null,
            "_model_name": "LayoutModel",
            "justify_items": null,
            "grid_row": null,
            "max_height": null,
            "align_content": null,
            "visibility": null,
            "align_self": null,
            "height": null,
            "min_height": null,
            "padding": null,
            "grid_auto_rows": null,
            "grid_gap": null,
            "max_width": null,
            "order": null,
            "_view_module_version": "1.2.0",
            "grid_template_areas": null,
            "object_position": null,
            "object_fit": null,
            "grid_auto_columns": null,
            "margin": null,
            "display": null,
            "left": null
          }
        },
        "33b7946e9ee34532bb73d853525a189c": {
          "model_module": "@jupyter-widgets/controls",
          "model_name": "DescriptionStyleModel",
          "state": {
            "_view_name": "StyleView",
            "_model_name": "DescriptionStyleModel",
            "description_width": "",
            "_view_module": "@jupyter-widgets/base",
            "_model_module_version": "1.5.0",
            "_view_count": null,
            "_view_module_version": "1.2.0",
            "_model_module": "@jupyter-widgets/controls"
          }
        },
        "144897f1421c438da269049de8e3796a": {
          "model_module": "@jupyter-widgets/base",
          "model_name": "LayoutModel",
          "state": {
            "_view_name": "LayoutView",
            "grid_template_rows": null,
            "right": null,
            "justify_content": null,
            "_view_module": "@jupyter-widgets/base",
            "overflow": null,
            "_model_module_version": "1.2.0",
            "_view_count": null,
            "flex_flow": null,
            "width": null,
            "min_width": null,
            "border": null,
            "align_items": null,
            "bottom": null,
            "_model_module": "@jupyter-widgets/base",
            "top": null,
            "grid_column": null,
            "overflow_y": null,
            "overflow_x": null,
            "grid_auto_flow": null,
            "grid_area": null,
            "grid_template_columns": null,
            "flex": null,
            "_model_name": "LayoutModel",
            "justify_items": null,
            "grid_row": null,
            "max_height": null,
            "align_content": null,
            "visibility": null,
            "align_self": null,
            "height": null,
            "min_height": null,
            "padding": null,
            "grid_auto_rows": null,
            "grid_gap": null,
            "max_width": null,
            "order": null,
            "_view_module_version": "1.2.0",
            "grid_template_areas": null,
            "object_position": null,
            "object_fit": null,
            "grid_auto_columns": null,
            "margin": null,
            "display": null,
            "left": null
          }
        },
        "68bc7cecd322426c8e88e3096fe40633": {
          "model_module": "@jupyter-widgets/controls",
          "model_name": "HBoxModel",
          "state": {
            "_view_name": "HBoxView",
            "_dom_classes": [],
            "_model_name": "HBoxModel",
            "_view_module": "@jupyter-widgets/controls",
            "_model_module_version": "1.5.0",
            "_view_count": null,
            "_view_module_version": "1.5.0",
            "box_style": "",
            "layout": "IPY_MODEL_a8aad6df87ec437bbb437d25b24b812f",
            "_model_module": "@jupyter-widgets/controls",
            "children": [
              "IPY_MODEL_db0f03214d20485087dd92e2693b8548",
              "IPY_MODEL_35124eff35bd424cbb26921a2405f9b1"
            ]
          }
        },
        "a8aad6df87ec437bbb437d25b24b812f": {
          "model_module": "@jupyter-widgets/base",
          "model_name": "LayoutModel",
          "state": {
            "_view_name": "LayoutView",
            "grid_template_rows": null,
            "right": null,
            "justify_content": null,
            "_view_module": "@jupyter-widgets/base",
            "overflow": null,
            "_model_module_version": "1.2.0",
            "_view_count": null,
            "flex_flow": null,
            "width": null,
            "min_width": null,
            "border": null,
            "align_items": null,
            "bottom": null,
            "_model_module": "@jupyter-widgets/base",
            "top": null,
            "grid_column": null,
            "overflow_y": null,
            "overflow_x": null,
            "grid_auto_flow": null,
            "grid_area": null,
            "grid_template_columns": null,
            "flex": null,
            "_model_name": "LayoutModel",
            "justify_items": null,
            "grid_row": null,
            "max_height": null,
            "align_content": null,
            "visibility": null,
            "align_self": null,
            "height": null,
            "min_height": null,
            "padding": null,
            "grid_auto_rows": null,
            "grid_gap": null,
            "max_width": null,
            "order": null,
            "_view_module_version": "1.2.0",
            "grid_template_areas": null,
            "object_position": null,
            "object_fit": null,
            "grid_auto_columns": null,
            "margin": null,
            "display": null,
            "left": null
          }
        },
        "db0f03214d20485087dd92e2693b8548": {
          "model_module": "@jupyter-widgets/controls",
          "model_name": "FloatProgressModel",
          "state": {
            "_view_name": "ProgressView",
            "style": "IPY_MODEL_85513ee5d88142bf9d8f45f835d4bfe1",
            "_dom_classes": [],
            "description": "Downloading: 100%",
            "_model_name": "FloatProgressModel",
            "bar_style": "success",
            "max": 456318,
            "_view_module": "@jupyter-widgets/controls",
            "_model_module_version": "1.5.0",
            "value": 456318,
            "_view_count": null,
            "_view_module_version": "1.5.0",
            "orientation": "horizontal",
            "min": 0,
            "description_tooltip": null,
            "_model_module": "@jupyter-widgets/controls",
            "layout": "IPY_MODEL_a2fd9905ada54046941038a05d051e81"
          }
        },
        "35124eff35bd424cbb26921a2405f9b1": {
          "model_module": "@jupyter-widgets/controls",
          "model_name": "HTMLModel",
          "state": {
            "_view_name": "HTMLView",
            "style": "IPY_MODEL_fbe1ee62d76d4d4fa7fc5d1d552edb4f",
            "_dom_classes": [],
            "description": "",
            "_model_name": "HTMLModel",
            "placeholder": "​",
            "_view_module": "@jupyter-widgets/controls",
            "_model_module_version": "1.5.0",
            "value": " 456k/456k [00:06&lt;00:00, 73.3kB/s]",
            "_view_count": null,
            "_view_module_version": "1.5.0",
            "description_tooltip": null,
            "_model_module": "@jupyter-widgets/controls",
            "layout": "IPY_MODEL_9ca1b8c0b781438cb9849210055a16ea"
          }
        },
        "85513ee5d88142bf9d8f45f835d4bfe1": {
          "model_module": "@jupyter-widgets/controls",
          "model_name": "ProgressStyleModel",
          "state": {
            "_view_name": "StyleView",
            "_model_name": "ProgressStyleModel",
            "description_width": "initial",
            "_view_module": "@jupyter-widgets/base",
            "_model_module_version": "1.5.0",
            "_view_count": null,
            "_view_module_version": "1.2.0",
            "bar_color": null,
            "_model_module": "@jupyter-widgets/controls"
          }
        },
        "a2fd9905ada54046941038a05d051e81": {
          "model_module": "@jupyter-widgets/base",
          "model_name": "LayoutModel",
          "state": {
            "_view_name": "LayoutView",
            "grid_template_rows": null,
            "right": null,
            "justify_content": null,
            "_view_module": "@jupyter-widgets/base",
            "overflow": null,
            "_model_module_version": "1.2.0",
            "_view_count": null,
            "flex_flow": null,
            "width": null,
            "min_width": null,
            "border": null,
            "align_items": null,
            "bottom": null,
            "_model_module": "@jupyter-widgets/base",
            "top": null,
            "grid_column": null,
            "overflow_y": null,
            "overflow_x": null,
            "grid_auto_flow": null,
            "grid_area": null,
            "grid_template_columns": null,
            "flex": null,
            "_model_name": "LayoutModel",
            "justify_items": null,
            "grid_row": null,
            "max_height": null,
            "align_content": null,
            "visibility": null,
            "align_self": null,
            "height": null,
            "min_height": null,
            "padding": null,
            "grid_auto_rows": null,
            "grid_gap": null,
            "max_width": null,
            "order": null,
            "_view_module_version": "1.2.0",
            "grid_template_areas": null,
            "object_position": null,
            "object_fit": null,
            "grid_auto_columns": null,
            "margin": null,
            "display": null,
            "left": null
          }
        },
        "fbe1ee62d76d4d4fa7fc5d1d552edb4f": {
          "model_module": "@jupyter-widgets/controls",
          "model_name": "DescriptionStyleModel",
          "state": {
            "_view_name": "StyleView",
            "_model_name": "DescriptionStyleModel",
            "description_width": "",
            "_view_module": "@jupyter-widgets/base",
            "_model_module_version": "1.5.0",
            "_view_count": null,
            "_view_module_version": "1.2.0",
            "_model_module": "@jupyter-widgets/controls"
          }
        },
        "9ca1b8c0b781438cb9849210055a16ea": {
          "model_module": "@jupyter-widgets/base",
          "model_name": "LayoutModel",
          "state": {
            "_view_name": "LayoutView",
            "grid_template_rows": null,
            "right": null,
            "justify_content": null,
            "_view_module": "@jupyter-widgets/base",
            "overflow": null,
            "_model_module_version": "1.2.0",
            "_view_count": null,
            "flex_flow": null,
            "width": null,
            "min_width": null,
            "border": null,
            "align_items": null,
            "bottom": null,
            "_model_module": "@jupyter-widgets/base",
            "top": null,
            "grid_column": null,
            "overflow_y": null,
            "overflow_x": null,
            "grid_auto_flow": null,
            "grid_area": null,
            "grid_template_columns": null,
            "flex": null,
            "_model_name": "LayoutModel",
            "justify_items": null,
            "grid_row": null,
            "max_height": null,
            "align_content": null,
            "visibility": null,
            "align_self": null,
            "height": null,
            "min_height": null,
            "padding": null,
            "grid_auto_rows": null,
            "grid_gap": null,
            "max_width": null,
            "order": null,
            "_view_module_version": "1.2.0",
            "grid_template_areas": null,
            "object_position": null,
            "object_fit": null,
            "grid_auto_columns": null,
            "margin": null,
            "display": null,
            "left": null
          }
        },
        "98d6f5f73d4f4e74b6b938297e2f55dc": {
          "model_module": "@jupyter-widgets/controls",
          "model_name": "HBoxModel",
          "state": {
            "_view_name": "HBoxView",
            "_dom_classes": [],
            "_model_name": "HBoxModel",
            "_view_module": "@jupyter-widgets/controls",
            "_model_module_version": "1.5.0",
            "_view_count": null,
            "_view_module_version": "1.5.0",
            "box_style": "",
            "layout": "IPY_MODEL_0fccb2dd3f27442c830c808afa9da928",
            "_model_module": "@jupyter-widgets/controls",
            "children": [
              "IPY_MODEL_ce3ae03725f042c5ae0085789a497da3",
              "IPY_MODEL_38415d94b1c3444d9e944005c341ccb3"
            ]
          }
        },
        "0fccb2dd3f27442c830c808afa9da928": {
          "model_module": "@jupyter-widgets/base",
          "model_name": "LayoutModel",
          "state": {
            "_view_name": "LayoutView",
            "grid_template_rows": null,
            "right": null,
            "justify_content": null,
            "_view_module": "@jupyter-widgets/base",
            "overflow": null,
            "_model_module_version": "1.2.0",
            "_view_count": null,
            "flex_flow": null,
            "width": null,
            "min_width": null,
            "border": null,
            "align_items": null,
            "bottom": null,
            "_model_module": "@jupyter-widgets/base",
            "top": null,
            "grid_column": null,
            "overflow_y": null,
            "overflow_x": null,
            "grid_auto_flow": null,
            "grid_area": null,
            "grid_template_columns": null,
            "flex": null,
            "_model_name": "LayoutModel",
            "justify_items": null,
            "grid_row": null,
            "max_height": null,
            "align_content": null,
            "visibility": null,
            "align_self": null,
            "height": null,
            "min_height": null,
            "padding": null,
            "grid_auto_rows": null,
            "grid_gap": null,
            "max_width": null,
            "order": null,
            "_view_module_version": "1.2.0",
            "grid_template_areas": null,
            "object_position": null,
            "object_fit": null,
            "grid_auto_columns": null,
            "margin": null,
            "display": null,
            "left": null
          }
        },
        "ce3ae03725f042c5ae0085789a497da3": {
          "model_module": "@jupyter-widgets/controls",
          "model_name": "FloatProgressModel",
          "state": {
            "_view_name": "ProgressView",
            "style": "IPY_MODEL_5f223b96db1a4120b16a96cd715bef62",
            "_dom_classes": [],
            "description": "Downloading: 100%",
            "_model_name": "FloatProgressModel",
            "bar_style": "success",
            "max": 1355863,
            "_view_module": "@jupyter-widgets/controls",
            "_model_module_version": "1.5.0",
            "value": 1355863,
            "_view_count": null,
            "_view_module_version": "1.5.0",
            "orientation": "horizontal",
            "min": 0,
            "description_tooltip": null,
            "_model_module": "@jupyter-widgets/controls",
            "layout": "IPY_MODEL_ee16aba6c87a4e6889edb7b3beda6a72"
          }
        },
        "38415d94b1c3444d9e944005c341ccb3": {
          "model_module": "@jupyter-widgets/controls",
          "model_name": "HTMLModel",
          "state": {
            "_view_name": "HTMLView",
            "style": "IPY_MODEL_5fb6845d597f416fa2686dd8a7279180",
            "_dom_classes": [],
            "description": "",
            "_model_name": "HTMLModel",
            "placeholder": "​",
            "_view_module": "@jupyter-widgets/controls",
            "_model_module_version": "1.5.0",
            "value": " 1.36M/1.36M [00:04&lt;00:00, 322kB/s]",
            "_view_count": null,
            "_view_module_version": "1.5.0",
            "description_tooltip": null,
            "_model_module": "@jupyter-widgets/controls",
            "layout": "IPY_MODEL_3783a45a420b447491d4b7195f1037b1"
          }
        },
        "5f223b96db1a4120b16a96cd715bef62": {
          "model_module": "@jupyter-widgets/controls",
          "model_name": "ProgressStyleModel",
          "state": {
            "_view_name": "StyleView",
            "_model_name": "ProgressStyleModel",
            "description_width": "initial",
            "_view_module": "@jupyter-widgets/base",
            "_model_module_version": "1.5.0",
            "_view_count": null,
            "_view_module_version": "1.2.0",
            "bar_color": null,
            "_model_module": "@jupyter-widgets/controls"
          }
        },
        "ee16aba6c87a4e6889edb7b3beda6a72": {
          "model_module": "@jupyter-widgets/base",
          "model_name": "LayoutModel",
          "state": {
            "_view_name": "LayoutView",
            "grid_template_rows": null,
            "right": null,
            "justify_content": null,
            "_view_module": "@jupyter-widgets/base",
            "overflow": null,
            "_model_module_version": "1.2.0",
            "_view_count": null,
            "flex_flow": null,
            "width": null,
            "min_width": null,
            "border": null,
            "align_items": null,
            "bottom": null,
            "_model_module": "@jupyter-widgets/base",
            "top": null,
            "grid_column": null,
            "overflow_y": null,
            "overflow_x": null,
            "grid_auto_flow": null,
            "grid_area": null,
            "grid_template_columns": null,
            "flex": null,
            "_model_name": "LayoutModel",
            "justify_items": null,
            "grid_row": null,
            "max_height": null,
            "align_content": null,
            "visibility": null,
            "align_self": null,
            "height": null,
            "min_height": null,
            "padding": null,
            "grid_auto_rows": null,
            "grid_gap": null,
            "max_width": null,
            "order": null,
            "_view_module_version": "1.2.0",
            "grid_template_areas": null,
            "object_position": null,
            "object_fit": null,
            "grid_auto_columns": null,
            "margin": null,
            "display": null,
            "left": null
          }
        },
        "5fb6845d597f416fa2686dd8a7279180": {
          "model_module": "@jupyter-widgets/controls",
          "model_name": "DescriptionStyleModel",
          "state": {
            "_view_name": "StyleView",
            "_model_name": "DescriptionStyleModel",
            "description_width": "",
            "_view_module": "@jupyter-widgets/base",
            "_model_module_version": "1.5.0",
            "_view_count": null,
            "_view_module_version": "1.2.0",
            "_model_module": "@jupyter-widgets/controls"
          }
        },
        "3783a45a420b447491d4b7195f1037b1": {
          "model_module": "@jupyter-widgets/base",
          "model_name": "LayoutModel",
          "state": {
            "_view_name": "LayoutView",
            "grid_template_rows": null,
            "right": null,
            "justify_content": null,
            "_view_module": "@jupyter-widgets/base",
            "overflow": null,
            "_model_module_version": "1.2.0",
            "_view_count": null,
            "flex_flow": null,
            "width": null,
            "min_width": null,
            "border": null,
            "align_items": null,
            "bottom": null,
            "_model_module": "@jupyter-widgets/base",
            "top": null,
            "grid_column": null,
            "overflow_y": null,
            "overflow_x": null,
            "grid_auto_flow": null,
            "grid_area": null,
            "grid_template_columns": null,
            "flex": null,
            "_model_name": "LayoutModel",
            "justify_items": null,
            "grid_row": null,
            "max_height": null,
            "align_content": null,
            "visibility": null,
            "align_self": null,
            "height": null,
            "min_height": null,
            "padding": null,
            "grid_auto_rows": null,
            "grid_gap": null,
            "max_width": null,
            "order": null,
            "_view_module_version": "1.2.0",
            "grid_template_areas": null,
            "object_position": null,
            "object_fit": null,
            "grid_auto_columns": null,
            "margin": null,
            "display": null,
            "left": null
          }
        },
        "dd20975a61234ac2b124f53c77cf1929": {
          "model_module": "@jupyter-widgets/controls",
          "model_name": "HBoxModel",
          "state": {
            "_view_name": "HBoxView",
            "_dom_classes": [],
            "_model_name": "HBoxModel",
            "_view_module": "@jupyter-widgets/controls",
            "_model_module_version": "1.5.0",
            "_view_count": null,
            "_view_module_version": "1.5.0",
            "box_style": "",
            "layout": "IPY_MODEL_ca53686cec0b41958aac12e90029a9ba",
            "_model_module": "@jupyter-widgets/controls",
            "children": [
              "IPY_MODEL_c1083d355c8847e2ba36634772821ab0",
              "IPY_MODEL_39fdfe2386d74ad58342ff95c0523f19"
            ]
          }
        },
        "ca53686cec0b41958aac12e90029a9ba": {
          "model_module": "@jupyter-widgets/base",
          "model_name": "LayoutModel",
          "state": {
            "_view_name": "LayoutView",
            "grid_template_rows": null,
            "right": null,
            "justify_content": null,
            "_view_module": "@jupyter-widgets/base",
            "overflow": null,
            "_model_module_version": "1.2.0",
            "_view_count": null,
            "flex_flow": null,
            "width": null,
            "min_width": null,
            "border": null,
            "align_items": null,
            "bottom": null,
            "_model_module": "@jupyter-widgets/base",
            "top": null,
            "grid_column": null,
            "overflow_y": null,
            "overflow_x": null,
            "grid_auto_flow": null,
            "grid_area": null,
            "grid_template_columns": null,
            "flex": null,
            "_model_name": "LayoutModel",
            "justify_items": null,
            "grid_row": null,
            "max_height": null,
            "align_content": null,
            "visibility": null,
            "align_self": null,
            "height": null,
            "min_height": null,
            "padding": null,
            "grid_auto_rows": null,
            "grid_gap": null,
            "max_width": null,
            "order": null,
            "_view_module_version": "1.2.0",
            "grid_template_areas": null,
            "object_position": null,
            "object_fit": null,
            "grid_auto_columns": null,
            "margin": null,
            "display": null,
            "left": null
          }
        },
        "c1083d355c8847e2ba36634772821ab0": {
          "model_module": "@jupyter-widgets/controls",
          "model_name": "FloatProgressModel",
          "state": {
            "_view_name": "ProgressView",
            "style": "IPY_MODEL_23c5e8f581314e319a68742be75b8500",
            "_dom_classes": [],
            "description": "Downloading: 100%",
            "_model_name": "FloatProgressModel",
            "bar_style": "success",
            "max": 481,
            "_view_module": "@jupyter-widgets/controls",
            "_model_module_version": "1.5.0",
            "value": 481,
            "_view_count": null,
            "_view_module_version": "1.5.0",
            "orientation": "horizontal",
            "min": 0,
            "description_tooltip": null,
            "_model_module": "@jupyter-widgets/controls",
            "layout": "IPY_MODEL_d11a0915142148aa81c085ccb0bda356"
          }
        },
        "39fdfe2386d74ad58342ff95c0523f19": {
          "model_module": "@jupyter-widgets/controls",
          "model_name": "HTMLModel",
          "state": {
            "_view_name": "HTMLView",
            "style": "IPY_MODEL_e1252d3339534b6791158c5fff2d990d",
            "_dom_classes": [],
            "description": "",
            "_model_name": "HTMLModel",
            "placeholder": "​",
            "_view_module": "@jupyter-widgets/controls",
            "_model_module_version": "1.5.0",
            "value": " 481/481 [00:16&lt;00:00, 29.4B/s]",
            "_view_count": null,
            "_view_module_version": "1.5.0",
            "description_tooltip": null,
            "_model_module": "@jupyter-widgets/controls",
            "layout": "IPY_MODEL_2efeb5f12fa84effbc83e25e29757fe1"
          }
        },
        "23c5e8f581314e319a68742be75b8500": {
          "model_module": "@jupyter-widgets/controls",
          "model_name": "ProgressStyleModel",
          "state": {
            "_view_name": "StyleView",
            "_model_name": "ProgressStyleModel",
            "description_width": "initial",
            "_view_module": "@jupyter-widgets/base",
            "_model_module_version": "1.5.0",
            "_view_count": null,
            "_view_module_version": "1.2.0",
            "bar_color": null,
            "_model_module": "@jupyter-widgets/controls"
          }
        },
        "d11a0915142148aa81c085ccb0bda356": {
          "model_module": "@jupyter-widgets/base",
          "model_name": "LayoutModel",
          "state": {
            "_view_name": "LayoutView",
            "grid_template_rows": null,
            "right": null,
            "justify_content": null,
            "_view_module": "@jupyter-widgets/base",
            "overflow": null,
            "_model_module_version": "1.2.0",
            "_view_count": null,
            "flex_flow": null,
            "width": null,
            "min_width": null,
            "border": null,
            "align_items": null,
            "bottom": null,
            "_model_module": "@jupyter-widgets/base",
            "top": null,
            "grid_column": null,
            "overflow_y": null,
            "overflow_x": null,
            "grid_auto_flow": null,
            "grid_area": null,
            "grid_template_columns": null,
            "flex": null,
            "_model_name": "LayoutModel",
            "justify_items": null,
            "grid_row": null,
            "max_height": null,
            "align_content": null,
            "visibility": null,
            "align_self": null,
            "height": null,
            "min_height": null,
            "padding": null,
            "grid_auto_rows": null,
            "grid_gap": null,
            "max_width": null,
            "order": null,
            "_view_module_version": "1.2.0",
            "grid_template_areas": null,
            "object_position": null,
            "object_fit": null,
            "grid_auto_columns": null,
            "margin": null,
            "display": null,
            "left": null
          }
        },
        "e1252d3339534b6791158c5fff2d990d": {
          "model_module": "@jupyter-widgets/controls",
          "model_name": "DescriptionStyleModel",
          "state": {
            "_view_name": "StyleView",
            "_model_name": "DescriptionStyleModel",
            "description_width": "",
            "_view_module": "@jupyter-widgets/base",
            "_model_module_version": "1.5.0",
            "_view_count": null,
            "_view_module_version": "1.2.0",
            "_model_module": "@jupyter-widgets/controls"
          }
        },
        "2efeb5f12fa84effbc83e25e29757fe1": {
          "model_module": "@jupyter-widgets/base",
          "model_name": "LayoutModel",
          "state": {
            "_view_name": "LayoutView",
            "grid_template_rows": null,
            "right": null,
            "justify_content": null,
            "_view_module": "@jupyter-widgets/base",
            "overflow": null,
            "_model_module_version": "1.2.0",
            "_view_count": null,
            "flex_flow": null,
            "width": null,
            "min_width": null,
            "border": null,
            "align_items": null,
            "bottom": null,
            "_model_module": "@jupyter-widgets/base",
            "top": null,
            "grid_column": null,
            "overflow_y": null,
            "overflow_x": null,
            "grid_auto_flow": null,
            "grid_area": null,
            "grid_template_columns": null,
            "flex": null,
            "_model_name": "LayoutModel",
            "justify_items": null,
            "grid_row": null,
            "max_height": null,
            "align_content": null,
            "visibility": null,
            "align_self": null,
            "height": null,
            "min_height": null,
            "padding": null,
            "grid_auto_rows": null,
            "grid_gap": null,
            "max_width": null,
            "order": null,
            "_view_module_version": "1.2.0",
            "grid_template_areas": null,
            "object_position": null,
            "object_fit": null,
            "grid_auto_columns": null,
            "margin": null,
            "display": null,
            "left": null
          }
        },
        "d7791e1e17f34e10aa262328355880b8": {
          "model_module": "@jupyter-widgets/controls",
          "model_name": "HBoxModel",
          "state": {
            "_view_name": "HBoxView",
            "_dom_classes": [],
            "_model_name": "HBoxModel",
            "_view_module": "@jupyter-widgets/controls",
            "_model_module_version": "1.5.0",
            "_view_count": null,
            "_view_module_version": "1.5.0",
            "box_style": "",
            "layout": "IPY_MODEL_6b3658c33a6e4a0782693c932c44dc13",
            "_model_module": "@jupyter-widgets/controls",
            "children": [
              "IPY_MODEL_279814f568b248c99b036b731451656f",
              "IPY_MODEL_4238d492f7604591945ad9b27b97a8cd"
            ]
          }
        },
        "6b3658c33a6e4a0782693c932c44dc13": {
          "model_module": "@jupyter-widgets/base",
          "model_name": "LayoutModel",
          "state": {
            "_view_name": "LayoutView",
            "grid_template_rows": null,
            "right": null,
            "justify_content": null,
            "_view_module": "@jupyter-widgets/base",
            "overflow": null,
            "_model_module_version": "1.2.0",
            "_view_count": null,
            "flex_flow": null,
            "width": null,
            "min_width": null,
            "border": null,
            "align_items": null,
            "bottom": null,
            "_model_module": "@jupyter-widgets/base",
            "top": null,
            "grid_column": null,
            "overflow_y": null,
            "overflow_x": null,
            "grid_auto_flow": null,
            "grid_area": null,
            "grid_template_columns": null,
            "flex": null,
            "_model_name": "LayoutModel",
            "justify_items": null,
            "grid_row": null,
            "max_height": null,
            "align_content": null,
            "visibility": null,
            "align_self": null,
            "height": null,
            "min_height": null,
            "padding": null,
            "grid_auto_rows": null,
            "grid_gap": null,
            "max_width": null,
            "order": null,
            "_view_module_version": "1.2.0",
            "grid_template_areas": null,
            "object_position": null,
            "object_fit": null,
            "grid_auto_columns": null,
            "margin": null,
            "display": null,
            "left": null
          }
        },
        "279814f568b248c99b036b731451656f": {
          "model_module": "@jupyter-widgets/controls",
          "model_name": "FloatProgressModel",
          "state": {
            "_view_name": "ProgressView",
            "style": "IPY_MODEL_6cf16167dd044e8c907c9aa44db4f462",
            "_dom_classes": [],
            "description": "Downloading: 100%",
            "_model_name": "FloatProgressModel",
            "bar_style": "success",
            "max": 501200538,
            "_view_module": "@jupyter-widgets/controls",
            "_model_module_version": "1.5.0",
            "value": 501200538,
            "_view_count": null,
            "_view_module_version": "1.5.0",
            "orientation": "horizontal",
            "min": 0,
            "description_tooltip": null,
            "_model_module": "@jupyter-widgets/controls",
            "layout": "IPY_MODEL_0d9b799931af45b6b611156d0ed37540"
          }
        },
        "4238d492f7604591945ad9b27b97a8cd": {
          "model_module": "@jupyter-widgets/controls",
          "model_name": "HTMLModel",
          "state": {
            "_view_name": "HTMLView",
            "style": "IPY_MODEL_27fd7454926043f8b767451e696556f2",
            "_dom_classes": [],
            "description": "",
            "_model_name": "HTMLModel",
            "placeholder": "​",
            "_view_module": "@jupyter-widgets/controls",
            "_model_module_version": "1.5.0",
            "value": " 501M/501M [00:10&lt;00:00, 48.8MB/s]",
            "_view_count": null,
            "_view_module_version": "1.5.0",
            "description_tooltip": null,
            "_model_module": "@jupyter-widgets/controls",
            "layout": "IPY_MODEL_ca6eb7fe2a574473b130c886067c53ca"
          }
        },
        "6cf16167dd044e8c907c9aa44db4f462": {
          "model_module": "@jupyter-widgets/controls",
          "model_name": "ProgressStyleModel",
          "state": {
            "_view_name": "StyleView",
            "_model_name": "ProgressStyleModel",
            "description_width": "initial",
            "_view_module": "@jupyter-widgets/base",
            "_model_module_version": "1.5.0",
            "_view_count": null,
            "_view_module_version": "1.2.0",
            "bar_color": null,
            "_model_module": "@jupyter-widgets/controls"
          }
        },
        "0d9b799931af45b6b611156d0ed37540": {
          "model_module": "@jupyter-widgets/base",
          "model_name": "LayoutModel",
          "state": {
            "_view_name": "LayoutView",
            "grid_template_rows": null,
            "right": null,
            "justify_content": null,
            "_view_module": "@jupyter-widgets/base",
            "overflow": null,
            "_model_module_version": "1.2.0",
            "_view_count": null,
            "flex_flow": null,
            "width": null,
            "min_width": null,
            "border": null,
            "align_items": null,
            "bottom": null,
            "_model_module": "@jupyter-widgets/base",
            "top": null,
            "grid_column": null,
            "overflow_y": null,
            "overflow_x": null,
            "grid_auto_flow": null,
            "grid_area": null,
            "grid_template_columns": null,
            "flex": null,
            "_model_name": "LayoutModel",
            "justify_items": null,
            "grid_row": null,
            "max_height": null,
            "align_content": null,
            "visibility": null,
            "align_self": null,
            "height": null,
            "min_height": null,
            "padding": null,
            "grid_auto_rows": null,
            "grid_gap": null,
            "max_width": null,
            "order": null,
            "_view_module_version": "1.2.0",
            "grid_template_areas": null,
            "object_position": null,
            "object_fit": null,
            "grid_auto_columns": null,
            "margin": null,
            "display": null,
            "left": null
          }
        },
        "27fd7454926043f8b767451e696556f2": {
          "model_module": "@jupyter-widgets/controls",
          "model_name": "DescriptionStyleModel",
          "state": {
            "_view_name": "StyleView",
            "_model_name": "DescriptionStyleModel",
            "description_width": "",
            "_view_module": "@jupyter-widgets/base",
            "_model_module_version": "1.5.0",
            "_view_count": null,
            "_view_module_version": "1.2.0",
            "_model_module": "@jupyter-widgets/controls"
          }
        },
        "ca6eb7fe2a574473b130c886067c53ca": {
          "model_module": "@jupyter-widgets/base",
          "model_name": "LayoutModel",
          "state": {
            "_view_name": "LayoutView",
            "grid_template_rows": null,
            "right": null,
            "justify_content": null,
            "_view_module": "@jupyter-widgets/base",
            "overflow": null,
            "_model_module_version": "1.2.0",
            "_view_count": null,
            "flex_flow": null,
            "width": null,
            "min_width": null,
            "border": null,
            "align_items": null,
            "bottom": null,
            "_model_module": "@jupyter-widgets/base",
            "top": null,
            "grid_column": null,
            "overflow_y": null,
            "overflow_x": null,
            "grid_auto_flow": null,
            "grid_area": null,
            "grid_template_columns": null,
            "flex": null,
            "_model_name": "LayoutModel",
            "justify_items": null,
            "grid_row": null,
            "max_height": null,
            "align_content": null,
            "visibility": null,
            "align_self": null,
            "height": null,
            "min_height": null,
            "padding": null,
            "grid_auto_rows": null,
            "grid_gap": null,
            "max_width": null,
            "order": null,
            "_view_module_version": "1.2.0",
            "grid_template_areas": null,
            "object_position": null,
            "object_fit": null,
            "grid_auto_columns": null,
            "margin": null,
            "display": null,
            "left": null
          }
        }
      }
    }
  },
  "cells": [
    {
      "cell_type": "code",
      "metadata": {
        "id": "c2PCY2IR1F8t",
        "colab": {
          "base_uri": "https://localhost:8080/"
        },
        "outputId": "ddd36436-4915-43b8-e0be-dbaa70273214"
      },
      "source": [
        "!pip install transformers"
      ],
      "execution_count": 1,
      "outputs": [
        {
          "output_type": "stream",
          "text": [
            "Requirement already satisfied: transformers in /usr/local/lib/python3.7/dist-packages (4.6.0)\n",
            "Requirement already satisfied: requests in /usr/local/lib/python3.7/dist-packages (from transformers) (2.23.0)\n",
            "Requirement already satisfied: sacremoses in /usr/local/lib/python3.7/dist-packages (from transformers) (0.0.45)\n",
            "Requirement already satisfied: filelock in /usr/local/lib/python3.7/dist-packages (from transformers) (3.0.12)\n",
            "Requirement already satisfied: regex!=2019.12.17 in /usr/local/lib/python3.7/dist-packages (from transformers) (2019.12.20)\n",
            "Requirement already satisfied: tqdm>=4.27 in /usr/local/lib/python3.7/dist-packages (from transformers) (4.41.1)\n",
            "Requirement already satisfied: importlib-metadata; python_version < \"3.8\" in /usr/local/lib/python3.7/dist-packages (from transformers) (4.0.1)\n",
            "Requirement already satisfied: huggingface-hub==0.0.8 in /usr/local/lib/python3.7/dist-packages (from transformers) (0.0.8)\n",
            "Requirement already satisfied: numpy>=1.17 in /usr/local/lib/python3.7/dist-packages (from transformers) (1.19.5)\n",
            "Requirement already satisfied: tokenizers<0.11,>=0.10.1 in /usr/local/lib/python3.7/dist-packages (from transformers) (0.10.2)\n",
            "Requirement already satisfied: packaging in /usr/local/lib/python3.7/dist-packages (from transformers) (20.9)\n",
            "Requirement already satisfied: idna<3,>=2.5 in /usr/local/lib/python3.7/dist-packages (from requests->transformers) (2.10)\n",
            "Requirement already satisfied: urllib3!=1.25.0,!=1.25.1,<1.26,>=1.21.1 in /usr/local/lib/python3.7/dist-packages (from requests->transformers) (1.24.3)\n",
            "Requirement already satisfied: chardet<4,>=3.0.2 in /usr/local/lib/python3.7/dist-packages (from requests->transformers) (3.0.4)\n",
            "Requirement already satisfied: certifi>=2017.4.17 in /usr/local/lib/python3.7/dist-packages (from requests->transformers) (2020.12.5)\n",
            "Requirement already satisfied: joblib in /usr/local/lib/python3.7/dist-packages (from sacremoses->transformers) (1.0.1)\n",
            "Requirement already satisfied: six in /usr/local/lib/python3.7/dist-packages (from sacremoses->transformers) (1.15.0)\n",
            "Requirement already satisfied: click in /usr/local/lib/python3.7/dist-packages (from sacremoses->transformers) (8.0.0)\n",
            "Requirement already satisfied: zipp>=0.5 in /usr/local/lib/python3.7/dist-packages (from importlib-metadata; python_version < \"3.8\"->transformers) (3.4.1)\n",
            "Requirement already satisfied: typing-extensions>=3.6.4; python_version < \"3.8\" in /usr/local/lib/python3.7/dist-packages (from importlib-metadata; python_version < \"3.8\"->transformers) (3.7.4.3)\n",
            "Requirement already satisfied: pyparsing>=2.0.2 in /usr/local/lib/python3.7/dist-packages (from packaging->transformers) (2.4.7)\n"
          ],
          "name": "stdout"
        }
      ]
    },
    {
      "cell_type": "code",
      "metadata": {
        "id": "TzhAQYKj3oil"
      },
      "source": [
        "import ast\n",
        "import csv\n",
        "import itertools\n",
        "import string\n",
        "import sys\n",
        "import time\n",
        "import torch\n",
        "import numpy as np\n",
        "import pandas as pd \n",
        "import json\n",
        "import random\n",
        "import time\n",
        "import ast\n",
        "import argparse\n",
        "from collections import defaultdict\n",
        "import matplotlib.pyplot as plt"
      ],
      "execution_count": 2,
      "outputs": []
    },
    {
      "cell_type": "markdown",
      "metadata": {
        "id": "aRhIjeXQ_J2z"
      },
      "source": [
        "# A. Data Preprocessing"
      ]
    },
    {
      "cell_type": "markdown",
      "metadata": {
        "id": "lgj6bJTu_bT9"
      },
      "source": [
        "## A0. Data Preview"
      ]
    },
    {
      "cell_type": "code",
      "metadata": {
        "colab": {
          "base_uri": "https://localhost:8080/",
          "height": 221
        },
        "id": "o5t6m2vi_i99",
        "outputId": "d6aa9419-9dd0-43f1-8c05-f00e32cede21"
      },
      "source": [
        "import pandas as pd\n",
        "from ast import literal_eval\n",
        "\n",
        "# Data Visualization\n",
        "train = pd.read_csv(\"tsd_train.csv\")\n",
        "train[\"spans\"] = train.spans.apply(literal_eval)\n",
        "print(\"Train Data Example\")\n",
        "train.head(5)"
      ],
      "execution_count": 3,
      "outputs": [
        {
          "output_type": "stream",
          "text": [
            "Train Data Example\n"
          ],
          "name": "stdout"
        },
        {
          "output_type": "execute_result",
          "data": {
            "text/html": [
              "<div>\n",
              "<style scoped>\n",
              "    .dataframe tbody tr th:only-of-type {\n",
              "        vertical-align: middle;\n",
              "    }\n",
              "\n",
              "    .dataframe tbody tr th {\n",
              "        vertical-align: top;\n",
              "    }\n",
              "\n",
              "    .dataframe thead th {\n",
              "        text-align: right;\n",
              "    }\n",
              "</style>\n",
              "<table border=\"1\" class=\"dataframe\">\n",
              "  <thead>\n",
              "    <tr style=\"text-align: right;\">\n",
              "      <th></th>\n",
              "      <th>spans</th>\n",
              "      <th>text</th>\n",
              "    </tr>\n",
              "  </thead>\n",
              "  <tbody>\n",
              "    <tr>\n",
              "      <th>0</th>\n",
              "      <td>[8, 9, 10, 11, 12, 13, 14, 15, 16, 17, 18, 19,...</td>\n",
              "      <td>Another violent and aggressive immigrant killi...</td>\n",
              "    </tr>\n",
              "    <tr>\n",
              "      <th>1</th>\n",
              "      <td>[33, 34, 35, 36, 37, 38, 39]</td>\n",
              "      <td>I am 56 years old, I am not your fucking junio...</td>\n",
              "    </tr>\n",
              "    <tr>\n",
              "      <th>2</th>\n",
              "      <td>[0, 1, 2, 3]</td>\n",
              "      <td>Damn, a whole family. Sad indeed.</td>\n",
              "    </tr>\n",
              "    <tr>\n",
              "      <th>3</th>\n",
              "      <td>[7, 8, 9, 10, 11, 12, 13, 14, 15, 16, 17]</td>\n",
              "      <td>What a knucklehead. How can anyone not know th...</td>\n",
              "    </tr>\n",
              "    <tr>\n",
              "      <th>4</th>\n",
              "      <td>[32, 33, 34, 35, 36, 37, 38]</td>\n",
              "      <td>\"who do you think should do the killing?\"\\n\\nA...</td>\n",
              "    </tr>\n",
              "  </tbody>\n",
              "</table>\n",
              "</div>"
            ],
            "text/plain": [
              "                                               spans                                               text\n",
              "0  [8, 9, 10, 11, 12, 13, 14, 15, 16, 17, 18, 19,...  Another violent and aggressive immigrant killi...\n",
              "1                       [33, 34, 35, 36, 37, 38, 39]  I am 56 years old, I am not your fucking junio...\n",
              "2                                       [0, 1, 2, 3]                  Damn, a whole family. Sad indeed.\n",
              "3          [7, 8, 9, 10, 11, 12, 13, 14, 15, 16, 17]  What a knucklehead. How can anyone not know th...\n",
              "4                       [32, 33, 34, 35, 36, 37, 38]  \"who do you think should do the killing?\"\\n\\nA..."
            ]
          },
          "metadata": {
            "tags": []
          },
          "execution_count": 3
        }
      ]
    },
    {
      "cell_type": "code",
      "metadata": {
        "colab": {
          "base_uri": "https://localhost:8080/",
          "height": 221
        },
        "id": "OWnqKKzCGqKq",
        "outputId": "175b2a54-d9ab-4d20-e4e5-e0deb4296d2b"
      },
      "source": [
        "# Data Visualization\n",
        "trial = pd.read_csv(\"tsd_trial.csv\")\n",
        "trial[\"spans\"] = trial.spans.apply(literal_eval)\n",
        "print(\"Test Data Example\")\n",
        "trial.head(5)"
      ],
      "execution_count": 4,
      "outputs": [
        {
          "output_type": "stream",
          "text": [
            "Test Data Example\n"
          ],
          "name": "stdout"
        },
        {
          "output_type": "execute_result",
          "data": {
            "text/html": [
              "<div>\n",
              "<style scoped>\n",
              "    .dataframe tbody tr th:only-of-type {\n",
              "        vertical-align: middle;\n",
              "    }\n",
              "\n",
              "    .dataframe tbody tr th {\n",
              "        vertical-align: top;\n",
              "    }\n",
              "\n",
              "    .dataframe thead th {\n",
              "        text-align: right;\n",
              "    }\n",
              "</style>\n",
              "<table border=\"1\" class=\"dataframe\">\n",
              "  <thead>\n",
              "    <tr style=\"text-align: right;\">\n",
              "      <th></th>\n",
              "      <th>spans</th>\n",
              "      <th>text</th>\n",
              "    </tr>\n",
              "  </thead>\n",
              "  <tbody>\n",
              "    <tr>\n",
              "      <th>0</th>\n",
              "      <td>[15, 16, 17, 18, 19, 27, 28, 29, 30, 31]</td>\n",
              "      <td>Because he's a moron and a bigot. It's not any...</td>\n",
              "    </tr>\n",
              "    <tr>\n",
              "      <th>1</th>\n",
              "      <td>[29, 30, 31, 32, 33, 34]</td>\n",
              "      <td>How about we stop protecting idiots and let na...</td>\n",
              "    </tr>\n",
              "    <tr>\n",
              "      <th>2</th>\n",
              "      <td>[166, 167, 168, 169, 170, 171]</td>\n",
              "      <td>If people  were  smart, they would  Boycott th...</td>\n",
              "    </tr>\n",
              "    <tr>\n",
              "      <th>3</th>\n",
              "      <td>[87, 88, 89, 90, 91, 92]</td>\n",
              "      <td>Trump Claimed that Russia will never invade th...</td>\n",
              "    </tr>\n",
              "    <tr>\n",
              "      <th>4</th>\n",
              "      <td>[]</td>\n",
              "      <td>As long as your willing to pay a lot more for ...</td>\n",
              "    </tr>\n",
              "  </tbody>\n",
              "</table>\n",
              "</div>"
            ],
            "text/plain": [
              "                                      spans                                               text\n",
              "0  [15, 16, 17, 18, 19, 27, 28, 29, 30, 31]  Because he's a moron and a bigot. It's not any...\n",
              "1                  [29, 30, 31, 32, 33, 34]  How about we stop protecting idiots and let na...\n",
              "2            [166, 167, 168, 169, 170, 171]  If people  were  smart, they would  Boycott th...\n",
              "3                  [87, 88, 89, 90, 91, 92]  Trump Claimed that Russia will never invade th...\n",
              "4                                        []  As long as your willing to pay a lot more for ..."
            ]
          },
          "metadata": {
            "tags": []
          },
          "execution_count": 4
        }
      ]
    },
    {
      "cell_type": "markdown",
      "metadata": {
        "id": "Zb2je_Y4xEUc"
      },
      "source": [
        "## A1. Read Files"
      ]
    },
    {
      "cell_type": "code",
      "metadata": {
        "id": "AySTamIe4CYc"
      },
      "source": [
        "# File Directory path of the dataset\n",
        "TRAIN_DIR = \"tsd_train.csv\"\n",
        "DEV_DIR = \"tsd_trial.csv\"\n",
        "TEST_DIR = \"tsd_test.csv\""
      ],
      "execution_count": 5,
      "outputs": []
    },
    {
      "cell_type": "code",
      "metadata": {
        "id": "6YyD_tz53cSg"
      },
      "source": [
        "# Sample Code provided by SemEval 2021 Task Organziers: https://github.com/ipavlopoulos/toxic_spans\n",
        "SPECIAL_CHARACTERS = string.whitespace\n",
        "\n",
        "def _contiguous_ranges(span_list):\n",
        "    \"\"\"Extracts continguous runs [1, 2, 3, 5, 6, 7] -> [(1,3), (5,7)].\"\"\"\n",
        "    output = []\n",
        "    for _, span in itertools.groupby(\n",
        "        enumerate(span_list), lambda p: p[1] - p[0]):\n",
        "        span = list(span)\n",
        "        output.append((span[0][1], span[-1][1]))\n",
        "    return output\n",
        "\n",
        "def fix_spans(spans, text, special_characters=SPECIAL_CHARACTERS):\n",
        "    \"\"\"Applies minor edits to trim spans and remove singletons.\"\"\"\n",
        "    cleaned = []\n",
        "    for begin, end in _contiguous_ranges(spans):\n",
        "        while text[begin] in special_characters and begin < end:\n",
        "            begin += 1\n",
        "        while text[end] in special_characters and begin < end:\n",
        "            end -= 1\n",
        "        if end - begin > 1:\n",
        "            cleaned.extend(range(begin, end + 1))\n",
        "    return cleaned"
      ],
      "execution_count": 6,
      "outputs": []
    },
    {
      "cell_type": "code",
      "metadata": {
        "id": "6xX97oNIG4hu"
      },
      "source": [
        "def read_csv_dataset(filename):\n",
        "    # Read the CSV file data, provided by task organizer\n",
        "    dataset = pd.read_csv(filename)\n",
        "\n",
        "    dataset[\"spans\"] = dataset.spans.apply(literal_eval)\n",
        "    texts, spans = dataset[\"text\"], dataset[\"spans\"]\n",
        "    texts = list(texts)\n",
        "    spans = [fix_spans(span, texts[i]) for i, span in enumerate(spans)]\n",
        "\n",
        "    return texts, spans # output both texts and spans"
      ],
      "execution_count": 7,
      "outputs": []
    },
    {
      "cell_type": "code",
      "metadata": {
        "colab": {
          "base_uri": "https://localhost:8080/"
        },
        "id": "PQ5-JXu0nD-q",
        "outputId": "3451c58e-4aae-44a0-b331-6d3524263be0"
      },
      "source": [
        "# Read the CSV files to get the texts and the spans respectively\n",
        "train_texts, train_spans = read_csv_dataset(TRAIN_DIR)\n",
        "val_texts, val_spans = read_csv_dataset(DEV_DIR)\n",
        "test_texts, test_spans = read_csv_dataset(TEST_DIR)\n",
        "\n",
        "# Preview\n",
        "print(train_texts[10])\n",
        "print(train_spans[10])\n",
        "print(_contiguous_ranges(train_spans[10]))"
      ],
      "execution_count": 8,
      "outputs": [
        {
          "output_type": "stream",
          "text": [
            "You conveniently don't mention your cohorts who call for extermination of Jews and Blacks. With guys like IQ006, IQ22, and the rest in your corner, well, I wouldn't call you  loathsome or deplorable like them but I think \" imbecile\" has some merit for your selectivity.\n",
            "[223, 224, 225, 226, 227, 228, 229, 230]\n",
            "[(223, 230)]\n"
          ],
          "name": "stdout"
        }
      ]
    },
    {
      "cell_type": "markdown",
      "metadata": {
        "id": "fYZEzQKCawQr"
      },
      "source": [
        "## A2. Dataset Statistics"
      ]
    },
    {
      "cell_type": "code",
      "metadata": {
        "colab": {
          "base_uri": "https://localhost:8080/",
          "height": 353
        },
        "id": "Et1Y7ZU4asf1",
        "outputId": "2ad934a8-f0d6-41a9-8ca9-11de90027c3a"
      },
      "source": [
        "# Training Dataset Statistics: showing the number of spans in one example\n",
        "train_distribution = [len(_contiguous_ranges(train_spans[i])) for i in range(len(train_spans))]\n",
        "train_freq=[(len([item for item in train_distribution if  i == item ])) for i in range(max(train_distribution)+1)]\n",
        "fig = plt.figure()\n",
        "ax = fig.add_axes([0,0,1,1])\n",
        "ax.bar([i for i in range(len(train_freq))],train_freq)\n",
        "plt.show()\n",
        "print(train_freq)"
      ],
      "execution_count": 9,
      "outputs": [
        {
          "output_type": "display_data",
          "data": {
            "image/png": "[encoded data removed]",
            "text/plain": [
              "<Figure size 432x288 with 1 Axes>"
            ]
          },
          "metadata": {
            "tags": [],
            "needs_background": "light"
          }
        },
        {
          "output_type": "stream",
          "text": [
            "[488, 5373, 1589, 343, 92, 27, 12, 8, 4, 1, 0, 1, 0, 0, 0, 0, 0, 0, 0, 0, 0, 0, 0, 0, 0, 1]\n"
          ],
          "name": "stdout"
        }
      ]
    },
    {
      "cell_type": "code",
      "metadata": {
        "colab": {
          "base_uri": "https://localhost:8080/",
          "height": 353
        },
        "id": "ZzDBBbJ9atRN",
        "outputId": "97529418-9f07-44ca-84e4-9cbd1d362e11"
      },
      "source": [
        "# Validation Dataset Statistics: showing the number of spans in one example\n",
        "val_distribution = [len(_contiguous_ranges(val_spans[i])) for i in range(len(val_spans))]\n",
        "val_freq=[(len([item for item in val_distribution if  i == item ])) for i in range(max(val_distribution)+1)]\n",
        "fig = plt.figure()\n",
        "ax = fig.add_axes([0,0,1,1])\n",
        "ax.bar([i for i in range(len(val_freq))],val_freq)\n",
        "plt.show()\n",
        "print(val_freq)"
      ],
      "execution_count": 10,
      "outputs": [
        {
          "output_type": "display_data",
          "data": {
            "image/png": "[encoded data removed]",
            "text/plain": [
              "<Figure size 432x288 with 1 Axes>"
            ]
          },
          "metadata": {
            "tags": [],
            "needs_background": "light"
          }
        },
        {
          "output_type": "stream",
          "text": [
            "[43, 450, 153, 35, 7, 1, 1]\n"
          ],
          "name": "stdout"
        }
      ]
    },
    {
      "cell_type": "code",
      "metadata": {
        "colab": {
          "base_uri": "https://localhost:8080/",
          "height": 353
        },
        "id": "TfP4g_nOaurF",
        "outputId": "59477625-f725-46b5-be0b-7478b6bbbfb0"
      },
      "source": [
        "# Testing Dataset Statistics: showing the number of spans in one example\n",
        "test_distribution = [len(_contiguous_ranges(test_spans[i])) for i in range(len(test_spans))]\n",
        "test_freq=[(len([item for item in test_distribution if  i == item ])) for i in range(max(test_distribution)+1)]\n",
        "fig = plt.figure()\n",
        "ax = fig.add_axes([0,0,1,1])\n",
        "ax.bar([i for i in range(len(test_freq))],test_freq)\n",
        "plt.show()\n",
        "print(test_freq)"
      ],
      "execution_count": 11,
      "outputs": [
        {
          "output_type": "display_data",
          "data": {
            "image/png": "[encoded data removed]",
            "text/plain": [
              "<Figure size 432x288 with 1 Axes>"
            ]
          },
          "metadata": {
            "tags": [],
            "needs_background": "light"
          }
        },
        {
          "output_type": "stream",
          "text": [
            "[394, 1407, 172, 16, 8, 0, 2, 1]\n"
          ],
          "name": "stdout"
        }
      ]
    },
    {
      "cell_type": "markdown",
      "metadata": {
        "id": "oJfWBQVl7Hyc"
      },
      "source": [
        "# B. Dataset Setup and Models\n",
        "\n"
      ]
    },
    {
      "cell_type": "markdown",
      "metadata": {
        "id": "2yK3i0g4e4zX"
      },
      "source": [
        "## B1. Dataset"
      ]
    },
    {
      "cell_type": "code",
      "metadata": {
        "id": "nDs-PI1M-cfa"
      },
      "source": [
        "# Dataset Setup, with torch.utils.data.Dataset\n",
        "class TSDetectionDataset(torch.utils.data.Dataset):\n",
        "    def __init__(self, X, y):\n",
        "        self.X = X\n",
        "        self.y = y\n",
        "\n",
        "    def __getitem__(self, index):\n",
        "        item = {key: torch.tensor(val[index]) for key, val in self.X.items()}\n",
        "        item['labels'] = torch.tensor(self.y[index])\n",
        "        return item\n",
        "\n",
        "    def __len__(self):\n",
        "        return len(self.y)"
      ],
      "execution_count": 12,
      "outputs": []
    },
    {
      "cell_type": "markdown",
      "metadata": {
        "id": "zgsIBrV7fAfW"
      },
      "source": [
        "## B2. Tokenization on Toxicity"
      ]
    },
    {
      "cell_type": "code",
      "metadata": {
        "id": "ekRyuiG8-KZl"
      },
      "source": [
        "def tokenization(tokenizer, texts, spans):\n",
        "    text_embeddings = tokenizer(texts, return_offsets_mapping=True, padding=True, truncation=True)\n",
        "    labels = []\n",
        "    for i, span in enumerate(spans):\n",
        "        label = []\n",
        "        for j in range(len(text_embeddings[i].tokens)):\n",
        "            label.append(0)\n",
        "        toxic_indices = set(span)\n",
        "        for j, offset in enumerate(text_embeddings[i].offsets):\n",
        "            if offset == (0, 0):\n",
        "                # When the label is CLS, SEP and PAD then set to -99.\n",
        "                label[j] = -100\n",
        "            else:\n",
        "                for k in range(offset[0], offset[1]):\n",
        "                    if k in toxic_indices: \n",
        "                        # When the token is toxic then label to 1.\n",
        "                        label[j] = 1\n",
        "                        break\n",
        "        labels.append(label)\n",
        "    return text_embeddings, labels"
      ],
      "execution_count": 13,
      "outputs": []
    },
    {
      "cell_type": "markdown",
      "metadata": {
        "id": "IoRqw1sAvcqH"
      },
      "source": [
        "##B3. Data Augmentation"
      ]
    },
    {
      "cell_type": "code",
      "metadata": {
        "colab": {
          "base_uri": "https://localhost:8080/"
        },
        "id": "t4RSUgNG4IAB",
        "outputId": "62dea5d1-3afc-4042-ab55-e45fad4cd47c"
      },
      "source": [
        "pip install numpy requests nlpaug"
      ],
      "execution_count": 14,
      "outputs": [
        {
          "output_type": "stream",
          "text": [
            "Requirement already satisfied: numpy in /usr/local/lib/python3.7/dist-packages (1.19.5)\n",
            "Requirement already satisfied: requests in /usr/local/lib/python3.7/dist-packages (2.23.0)\n",
            "Requirement already satisfied: nlpaug in /usr/local/lib/python3.7/dist-packages (1.1.3)\n",
            "Requirement already satisfied: certifi>=2017.4.17 in /usr/local/lib/python3.7/dist-packages (from requests) (2020.12.5)\n",
            "Requirement already satisfied: chardet<4,>=3.0.2 in /usr/local/lib/python3.7/dist-packages (from requests) (3.0.4)\n",
            "Requirement already satisfied: urllib3!=1.25.0,!=1.25.1,<1.26,>=1.21.1 in /usr/local/lib/python3.7/dist-packages (from requests) (1.24.3)\n",
            "Requirement already satisfied: idna<3,>=2.5 in /usr/local/lib/python3.7/dist-packages (from requests) (2.10)\n"
          ],
          "name": "stdout"
        }
      ]
    },
    {
      "cell_type": "code",
      "metadata": {
        "id": "hcJyW_CS4G9j"
      },
      "source": [
        "import nlpaug.augmenter.char as nac\n",
        "\n",
        "from nlpaug.util import Action"
      ],
      "execution_count": 15,
      "outputs": []
    },
    {
      "cell_type": "code",
      "metadata": {
        "id": "Wd9yMsbT36T_"
      },
      "source": [
        "def substitute_char(text):\n",
        "    aug = nac.RandomCharAug(action=\"substitute\")\n",
        "    augmented_text = aug.augment(text)\n",
        "    return augmented_text\n",
        "\n",
        "def swap_char(text):\n",
        "    aug = nac.RandomCharAug(action=\"swap\")\n",
        "    augmented_text = aug.augment(text)\n",
        "    return augmented_text"
      ],
      "execution_count": 16,
      "outputs": []
    },
    {
      "cell_type": "code",
      "metadata": {
        "id": "ZPzbWH-jvin6"
      },
      "source": [
        "augmented = False\n",
        "\n",
        "if augmented:\n",
        "    new_train_texts = train_texts\n",
        "    new_train_spans = train_spans\n",
        "    for i in range(len(train_texts)):\n",
        "        if (random.random() > 0.8):\n",
        "            new_text = substitute_char(train_texts[i])\n",
        "            new_text = swap_char(train_texts[i])\n",
        "            new_span = train_spans[i]\n",
        "            new_train_texts.append(new_text)\n",
        "            new_train_spans.append(new_span)\n",
        "    train_texts, train_spans = new_train_texts, new_train_spans"
      ],
      "execution_count": 17,
      "outputs": []
    },
    {
      "cell_type": "markdown",
      "metadata": {
        "id": "-kDJJsUtsySy"
      },
      "source": [
        "## B4. Model Selection"
      ]
    },
    {
      "cell_type": "code",
      "metadata": {
        "id": "nXGTGUAzudIl"
      },
      "source": [
        "from transformers import DistilBertTokenizerFast, DistilBertForTokenClassification\n",
        "from transformers import RobertaTokenizerFast, RobertaForTokenClassification\n",
        "from transformers import GPT2TokenizerFast, GPT2ForSequenceClassification\n",
        "from transformers import BertForTokenClassification, Trainer, TrainingArguments, BertTokenizerFast "
      ],
      "execution_count": 18,
      "outputs": []
    },
    {
      "cell_type": "code",
      "metadata": {
        "colab": {
          "base_uri": "https://localhost:8080/",
          "height": 367,
          "referenced_widgets": [
            "cdc03f681d264146abe4e86317845d5b",
            "e3452fb860c248b78c1415adff85a919",
            "054e621d79c84181931589d27c7183fa",
            "26737e4ef3dd4a798b40c2b4d8370d4e",
            "8b864f87214b402aa0cbd5f35362c485",
            "f956e0991cdf402487865db811b83519",
            "33b7946e9ee34532bb73d853525a189c",
            "144897f1421c438da269049de8e3796a",
            "68bc7cecd322426c8e88e3096fe40633",
            "a8aad6df87ec437bbb437d25b24b812f",
            "db0f03214d20485087dd92e2693b8548",
            "35124eff35bd424cbb26921a2405f9b1",
            "85513ee5d88142bf9d8f45f835d4bfe1",
            "a2fd9905ada54046941038a05d051e81",
            "fbe1ee62d76d4d4fa7fc5d1d552edb4f",
            "9ca1b8c0b781438cb9849210055a16ea",
            "98d6f5f73d4f4e74b6b938297e2f55dc",
            "0fccb2dd3f27442c830c808afa9da928",
            "ce3ae03725f042c5ae0085789a497da3",
            "38415d94b1c3444d9e944005c341ccb3",
            "5f223b96db1a4120b16a96cd715bef62",
            "ee16aba6c87a4e6889edb7b3beda6a72",
            "5fb6845d597f416fa2686dd8a7279180",
            "3783a45a420b447491d4b7195f1037b1",
            "dd20975a61234ac2b124f53c77cf1929",
            "ca53686cec0b41958aac12e90029a9ba",
            "c1083d355c8847e2ba36634772821ab0",
            "39fdfe2386d74ad58342ff95c0523f19",
            "23c5e8f581314e319a68742be75b8500",
            "d11a0915142148aa81c085ccb0bda356",
            "e1252d3339534b6791158c5fff2d990d",
            "2efeb5f12fa84effbc83e25e29757fe1",
            "d7791e1e17f34e10aa262328355880b8",
            "6b3658c33a6e4a0782693c932c44dc13",
            "279814f568b248c99b036b731451656f",
            "4238d492f7604591945ad9b27b97a8cd",
            "6cf16167dd044e8c907c9aa44db4f462",
            "0d9b799931af45b6b611156d0ed37540",
            "27fd7454926043f8b767451e696556f2",
            "ca6eb7fe2a574473b130c886067c53ca"
          ]
        },
        "id": "xE16yAJq3KEg",
        "outputId": "f48387e6-fe40-42e2-fb68-36d4f691868f"
      },
      "source": [
        "# Model 1: BERT-base\n",
        "#tokenizer = BertTokenizerFast.from_pretrained(\"bert-base-cased\")\n",
        "#model = BertForTokenClassification.from_pretrained(\"bert-base-cased\", num_labels=2)\n",
        "#model.cuda()\n",
        "\n",
        "# Model 2: RoBERTa base\n",
        "\n",
        "tokenizer = RobertaTokenizerFast.from_pretrained(\"roberta-base\")\n",
        "model = RobertaForTokenClassification.from_pretrained(\"roberta-base\", num_labels=2)\n",
        "model.cuda()\n",
        "\n",
        "# Model 3: DistilBERT\n",
        "\n",
        "#tokenizer = DistilBertTokenizerFast.from_pretrained(\"distilbert-base-cased\")\n",
        "#model = DistilBertForTokenClassification.from_pretrained(\"distilbert-base-cased\", num_labels=2)\n",
        "#model.cuda()\n",
        "\n",
        "# Get the word embeddings\n",
        "train_text_embeddings, train_labels = tokenization(tokenizer, train_texts, train_spans)\n",
        "val_text_embeddings, val_labels = tokenization(tokenizer, val_texts, val_spans)\n",
        "test_text_embeddings, test_labels = tokenization(tokenizer, test_texts, test_spans)"
      ],
      "execution_count": 19,
      "outputs": [
        {
          "output_type": "display_data",
          "data": {
            "application/vnd.jupyter.widget-view+json": {
              "model_id": "cdc03f681d264146abe4e86317845d5b",
              "version_minor": 0,
              "version_major": 2
            },
            "text/plain": [
              "HBox(children=(FloatProgress(value=0.0, description='Downloading', max=898823.0, style=ProgressStyle(descripti…"
            ]
          },
          "metadata": {
            "tags": []
          }
        },
        {
          "output_type": "stream",
          "text": [
            "\n"
          ],
          "name": "stdout"
        },
        {
          "output_type": "display_data",
          "data": {
            "application/vnd.jupyter.widget-view+json": {
              "model_id": "68bc7cecd322426c8e88e3096fe40633",
              "version_minor": 0,
              "version_major": 2
            },
            "text/plain": [
              "HBox(children=(FloatProgress(value=0.0, description='Downloading', max=456318.0, style=ProgressStyle(descripti…"
            ]
          },
          "metadata": {
            "tags": []
          }
        },
        {
          "output_type": "stream",
          "text": [
            "\n"
          ],
          "name": "stdout"
        },
        {
          "output_type": "display_data",
          "data": {
            "application/vnd.jupyter.widget-view+json": {
              "model_id": "98d6f5f73d4f4e74b6b938297e2f55dc",
              "version_minor": 0,
              "version_major": 2
            },
            "text/plain": [
              "HBox(children=(FloatProgress(value=0.0, description='Downloading', max=1355863.0, style=ProgressStyle(descript…"
            ]
          },
          "metadata": {
            "tags": []
          }
        },
        {
          "output_type": "stream",
          "text": [
            "\n"
          ],
          "name": "stdout"
        },
        {
          "output_type": "display_data",
          "data": {
            "application/vnd.jupyter.widget-view+json": {
              "model_id": "dd20975a61234ac2b124f53c77cf1929",
              "version_minor": 0,
              "version_major": 2
            },
            "text/plain": [
              "HBox(children=(FloatProgress(value=0.0, description='Downloading', max=481.0, style=ProgressStyle(description_…"
            ]
          },
          "metadata": {
            "tags": []
          }
        },
        {
          "output_type": "stream",
          "text": [
            "\n"
          ],
          "name": "stdout"
        },
        {
          "output_type": "display_data",
          "data": {
            "application/vnd.jupyter.widget-view+json": {
              "model_id": "d7791e1e17f34e10aa262328355880b8",
              "version_minor": 0,
              "version_major": 2
            },
            "text/plain": [
              "HBox(children=(FloatProgress(value=0.0, description='Downloading', max=501200538.0, style=ProgressStyle(descri…"
            ]
          },
          "metadata": {
            "tags": []
          }
        },
        {
          "output_type": "stream",
          "text": [
            "\n"
          ],
          "name": "stdout"
        },
        {
          "output_type": "stream",
          "text": [
            "Some weights of the model checkpoint at roberta-base were not used when initializing RobertaForTokenClassification: ['lm_head.decoder.weight', 'lm_head.dense.bias', 'lm_head.layer_norm.bias', 'lm_head.bias', 'lm_head.dense.weight', 'lm_head.layer_norm.weight']\n",
            "- This IS expected if you are initializing RobertaForTokenClassification from the checkpoint of a model trained on another task or with another architecture (e.g. initializing a BertForSequenceClassification model from a BertForPreTraining model).\n",
            "- This IS NOT expected if you are initializing RobertaForTokenClassification from the checkpoint of a model that you expect to be exactly identical (initializing a BertForSequenceClassification model from a BertForSequenceClassification model).\n",
            "Some weights of RobertaForTokenClassification were not initialized from the model checkpoint at roberta-base and are newly initialized: ['classifier.weight', 'classifier.bias']\n",
            "You should probably TRAIN this model on a down-stream task to be able to use it for predictions and inference.\n"
          ],
          "name": "stderr"
        }
      ]
    },
    {
      "cell_type": "code",
      "metadata": {
        "colab": {
          "base_uri": "https://localhost:8080/"
        },
        "id": "lAn_fwPA7T8N",
        "outputId": "b41b19a7-2153-48bf-e7ec-c5fb0c2aa327"
      },
      "source": [
        "# Create Torch Dataset Objects for train / valid sets\n",
        "train_dataset = TSDetectionDataset(train_text_embeddings, train_labels)\n",
        "val_dataset = TSDetectionDataset(val_text_embeddings, val_labels)\n",
        "test_dataset = TSDetectionDataset(test_text_embeddings, test_labels)\n",
        "\n",
        "print(train_text_embeddings[10])"
      ],
      "execution_count": 20,
      "outputs": [
        {
          "output_type": "stream",
          "text": [
            "Encoding(num_tokens=423, attributes=[ids, type_ids, tokens, offsets, attention_mask, special_tokens_mask, overflowing])\n"
          ],
          "name": "stdout"
        }
      ]
    },
    {
      "cell_type": "code",
      "metadata": {
        "id": "i6IV4M3D-gs-"
      },
      "source": [
        "train_offset_mapping = train_text_embeddings.pop(\"offset_mapping\") \n",
        "val_offset_mapping = val_text_embeddings.pop(\"offset_mapping\")\n",
        "test_offset_mapping = test_text_embeddings.pop(\"offset_mapping\")"
      ],
      "execution_count": 21,
      "outputs": []
    },
    {
      "cell_type": "markdown",
      "metadata": {
        "id": "Ay3BX73iFJWQ"
      },
      "source": [
        "# C. Training"
      ]
    },
    {
      "cell_type": "markdown",
      "metadata": {
        "id": "NGg3BlQRFN28"
      },
      "source": [
        "## C1. F1 Score Evaulation"
      ]
    },
    {
      "cell_type": "code",
      "metadata": {
        "id": "XH2N6CZmkuG5"
      },
      "source": [
        "def toxic_character_offsets_with_thresholding(post_num, tokens, offset_mapping, prediction, val_sentences_info, prediction_score, threshold):\n",
        "  toxic_offsets = []\n",
        "  scores = []\n",
        "  n = len(tokens)\n",
        "  i = 1           # start from 1 as 0th token is [CLS]\n",
        "  while i < n:\n",
        "    # stop looping after processing all post tokens\n",
        "    if tokens[i] == '[SEP]':\n",
        "      break\n",
        "\n",
        "    cur_toxic = []\n",
        "    # if previous token is also predicted toxic, then toxic phrase found\n",
        "    if len(toxic_offsets) > 0 and toxic_offsets[-1] == offset_mapping[i-1][1] - 1:\n",
        "      cur_toxic.extend([index for index in range(offset_mapping[i-1][1], offset_mapping[i][0])])\n",
        "    \n",
        "    # add the characters offsets of this head BPE\n",
        "    cur_toxic.extend([index for index in range(offset_mapping[i][0], offset_mapping[i][1])])\n",
        "    cur_score = [(tokens[i], prediction_score[i].max())]\n",
        "    cur_labels = [prediction[i]]\n",
        "    \n",
        "    # process all sub-tokens of the current head BPE\n",
        "    i += 1\n",
        "    while i < n and '##' in tokens[i]:\n",
        "      cur_toxic.extend([index for index in range(offset_mapping[i][0], offset_mapping[i][1])])\n",
        "      cur_score.append((tokens[i], prediction_score[i].max()))\n",
        "      cur_labels.append(prediction[i])\n",
        "      i += 1\n",
        "    \n",
        "    # word is predicted toxic if any sub-token is predicted toxic by model\n",
        "    prediction_label = True if max(cur_labels) == 1 else False\n",
        "    # prediction_label = True if min(cur_labels) == 1 else False\n",
        "\n",
        "    \n",
        "    # include cur_toxic offsets if any of the sub-token confidence score is greater than threshold\n",
        "    confidence_values = [score for _, score in cur_score]\n",
        "    passed_threshold = True if max(confidence_values) >= threshold else False\n",
        "    # passed_threshold = True if min(confidence_values) >= threshold else False\n",
        "\n",
        "    # include to global toxic offsets list only if both predicted label and threshold criteria passes\n",
        "    if prediction_label and passed_threshold:\n",
        "      toxic_offsets.extend(cur_toxic)\n",
        "      scores.extend(cur_score)\n",
        "  \n",
        "\n",
        "  return toxic_offsets, scores\n",
        "\n",
        "def character_offsets_with_thresholding(val_text_embeddings, val_offset_mapping, predictions, val_sentences_info, prediction_scores, threshold=-float('inf')):\n",
        "  return [toxic_character_offsets_with_thresholding(i, val_text_embeddings[i].tokens, offset_mapping, prediction, val_sentences_info, prediction_scores[i], threshold) for i, (offset_mapping, prediction) in enumerate(zip(val_offset_mapping, predictions))]"
      ],
      "execution_count": 22,
      "outputs": []
    },
    {
      "cell_type": "code",
      "metadata": {
        "id": "vHoCfRHyhw1u"
      },
      "source": [
        "# Referenced by SemEval 2021 Task Organizers' Sample Code: https://github.com/ipavlopoulos/toxic_spans\n",
        "\n",
        "def avg_F1(toxic_char_preds, gold_char_offsets):\n",
        "\n",
        "  def F1(predictions, gold):\n",
        "    if len(gold) == 0:\n",
        "        if len(predictions) == 0:\n",
        "            return 1 \n",
        "        else:\n",
        "            return 0\n",
        "\n",
        "    if len(predictions) == 0:\n",
        "        return 0\n",
        "    \n",
        "    nom = 2*len(set(predictions).intersection(set(gold)))\n",
        "    denom = len(set(predictions))+len(set(gold))\n",
        "\n",
        "    return float(nom/denom)\n",
        "\n",
        "  f1_scores = [F1(toxic_offsets, gold_offsets) for toxic_offsets, gold_offsets in zip(toxic_char_preds, gold_char_offsets)]\n",
        "\n",
        "  return np.array(f1_scores).mean(axis=0)\n",
        "\n",
        "metrics = defaultdict(list)\n",
        "# custom metric wrapper function\n",
        "def custom_metrics(pred):\n",
        "    # get the sub-token predictions made by the model\n",
        "    predictions = pred.predictions.argmax(-1)\n",
        "    prediction_scores = pred.predictions\n",
        "\n",
        "    threshold = 0.4\n",
        "    # retrieve the toxic character offsets of these predictions\n",
        "    toxic_char_preds_object = character_offsets_with_thresholding(val_text_embeddings, val_offset_mapping, predictions, val_sentences_info, prediction_scores, threshold)\n",
        "    toxic_char_offsets = [span[0] for span in toxic_char_preds_object]\n",
        "\n",
        "    # compute the precision, recall and f1 score on the validation set\n",
        "    f1 = avg_F1(toxic_char_offsets, val_spans)\n",
        "\n",
        "    temp = {'f1': f1}\n",
        "\n",
        "    metrics['f1'].append(temp)\n",
        "\n",
        "    return temp"
      ],
      "execution_count": 28,
      "outputs": []
    },
    {
      "cell_type": "markdown",
      "metadata": {
        "id": "zUZjItbIFUVE"
      },
      "source": [
        "## C2. Hyperparameters and Trainer Setup"
      ]
    },
    {
      "cell_type": "code",
      "metadata": {
        "id": "PqB939GNFEa2"
      },
      "source": [
        "epochs = 2\n",
        "batch_size = 16\n",
        "decay_rate = 0.01\n",
        "learning_rate = 5e-5\n",
        "\n",
        "training_args = TrainingArguments(\n",
        "  output_dir=\"./checkpoints\",                   \n",
        "  num_train_epochs=2,\n",
        "  per_device_train_batch_size=batch_size,  \n",
        "  per_device_eval_batch_size=batch_size,\n",
        "  warmup_steps=500,\n",
        "  weight_decay=decay_rate,             \n",
        "  logging_dir='./logs',\n",
        "  logging_steps=5,\n",
        "  do_eval=True,\n",
        "  evaluation_strategy=\"steps\",\n",
        "  learning_rate=learning_rate,\n",
        "  disable_tqdm=True,\n",
        ")\n",
        "\n",
        "trainer = Trainer(\n",
        "  model=model,\n",
        "  args=training_args,\n",
        "  train_dataset=train_dataset,       \n",
        "  eval_dataset=val_dataset,         \n",
        "  compute_metrics=custom_metrics\n",
        ")\n",
        "\n",
        "val_sentences_info = {}"
      ],
      "execution_count": 24,
      "outputs": []
    },
    {
      "cell_type": "markdown",
      "metadata": {
        "id": "226HeDAjF0QY"
      },
      "source": [
        "## C3. Training Time and Prediction"
      ]
    },
    {
      "cell_type": "code",
      "metadata": {
        "colab": {
          "base_uri": "https://localhost:8080/"
        },
        "id": "7-wwLZmHF53D",
        "outputId": "dc0a0960-b4bc-4003-f609-590e1b339dac"
      },
      "source": [
        "trainer.train()\n",
        "\n",
        "# use trained model to make predictions on dev and test datasets\n",
        "val_pred = trainer.predict(val_dataset)\n",
        "test_pred = trainer.predict(test_dataset)"
      ],
      "execution_count": 25,
      "outputs": [
        {
          "output_type": "stream",
          "text": [
            "{'loss': 0.7788, 'learning_rate': 5.000000000000001e-07, 'epoch': 0.01}\n",
            "{'eval_loss': 0.7730773091316223, 'eval_f1': 0.11152353114245818, 'eval_runtime': 6.3454, 'eval_samples_per_second': 108.74, 'epoch': 0.01}\n",
            "{'loss': 0.7717, 'learning_rate': 1.0000000000000002e-06, 'epoch': 0.02}\n",
            "{'eval_loss': 0.7504338026046753, 'eval_f1': 0.0950451405027317, 'eval_runtime': 6.1185, 'eval_samples_per_second': 112.773, 'epoch': 0.02}\n",
            "{'loss': 0.7306, 'learning_rate': 1.5e-06, 'epoch': 0.03}\n",
            "{'eval_loss': 0.7131667733192444, 'eval_f1': 0.0659694753350029, 'eval_runtime': 6.1046, 'eval_samples_per_second': 113.03, 'epoch': 0.03}\n",
            "{'loss': 0.6919, 'learning_rate': 2.0000000000000003e-06, 'epoch': 0.04}\n",
            "{'eval_loss': 0.6637511253356934, 'eval_f1': 0.05102837069764753, 'eval_runtime': 6.1093, 'eval_samples_per_second': 112.942, 'epoch': 0.04}\n",
            "{'loss': 0.6414, 'learning_rate': 2.5e-06, 'epoch': 0.05}\n",
            "{'eval_loss': 0.6034311652183533, 'eval_f1': 0.047101300594721125, 'eval_runtime': 6.0757, 'eval_samples_per_second': 113.567, 'epoch': 0.05}\n",
            "{'loss': 0.5807, 'learning_rate': 3e-06, 'epoch': 0.06}\n",
            "{'eval_loss': 0.533531665802002, 'eval_f1': 0.05955304790352915, 'eval_runtime': 6.0588, 'eval_samples_per_second': 113.884, 'epoch': 0.06}\n",
            "{'loss': 0.5216, 'learning_rate': 3.5000000000000004e-06, 'epoch': 0.07}\n",
            "{'eval_loss': 0.45687758922576904, 'eval_f1': 0.06086956521739131, 'eval_runtime': 6.0958, 'eval_samples_per_second': 113.192, 'epoch': 0.07}\n",
            "{'loss': 0.4159, 'learning_rate': 4.000000000000001e-06, 'epoch': 0.08}\n",
            "{'eval_loss': 0.374772310256958, 'eval_f1': 0.06231884057971015, 'eval_runtime': 6.1152, 'eval_samples_per_second': 112.834, 'epoch': 0.08}\n",
            "{'loss': 0.3437, 'learning_rate': 4.5e-06, 'epoch': 0.09}\n",
            "{'eval_loss': 0.30082863569259644, 'eval_f1': 0.06231884057971015, 'eval_runtime': 6.0843, 'eval_samples_per_second': 113.406, 'epoch': 0.09}\n",
            "{'loss': 0.2769, 'learning_rate': 5e-06, 'epoch': 0.1}\n",
            "{'eval_loss': 0.2746424674987793, 'eval_f1': 0.06231884057971015, 'eval_runtime': 6.0862, 'eval_samples_per_second': 113.371, 'epoch': 0.1}\n",
            "{'loss': 0.2594, 'learning_rate': 5.500000000000001e-06, 'epoch': 0.11}\n",
            "{'eval_loss': 0.28152143955230713, 'eval_f1': 0.06231884057971015, 'eval_runtime': 6.0743, 'eval_samples_per_second': 113.593, 'epoch': 0.11}\n",
            "{'loss': 0.3169, 'learning_rate': 6e-06, 'epoch': 0.12}\n",
            "{'eval_loss': 0.25579357147216797, 'eval_f1': 0.06231884057971015, 'eval_runtime': 6.0444, 'eval_samples_per_second': 114.154, 'epoch': 0.12}\n",
            "{'loss': 0.3064, 'learning_rate': 6.5000000000000004e-06, 'epoch': 0.13}\n",
            "{'eval_loss': 0.23976492881774902, 'eval_f1': 0.06231884057971015, 'eval_runtime': 6.0851, 'eval_samples_per_second': 113.392, 'epoch': 0.13}\n",
            "{'loss': 0.3626, 'learning_rate': 7.000000000000001e-06, 'epoch': 0.14}\n",
            "{'eval_loss': 0.24739380180835724, 'eval_f1': 0.06231884057971015, 'eval_runtime': 6.0507, 'eval_samples_per_second': 114.036, 'epoch': 0.14}\n",
            "{'loss': 0.2414, 'learning_rate': 7.5e-06, 'epoch': 0.15}\n",
            "{'eval_loss': 0.24020791053771973, 'eval_f1': 0.06231884057971015, 'eval_runtime': 6.0727, 'eval_samples_per_second': 113.623, 'epoch': 0.15}\n",
            "{'loss': 0.1758, 'learning_rate': 8.000000000000001e-06, 'epoch': 0.16}\n",
            "{'eval_loss': 0.228363499045372, 'eval_f1': 0.06231884057971015, 'eval_runtime': 6.0715, 'eval_samples_per_second': 113.646, 'epoch': 0.16}\n",
            "{'loss': 0.2275, 'learning_rate': 8.500000000000002e-06, 'epoch': 0.17}\n",
            "{'eval_loss': 0.2400234043598175, 'eval_f1': 0.06231884057971015, 'eval_runtime': 6.0698, 'eval_samples_per_second': 113.677, 'epoch': 0.17}\n",
            "{'loss': 0.3004, 'learning_rate': 9e-06, 'epoch': 0.18}\n",
            "{'eval_loss': 0.22038862109184265, 'eval_f1': 0.06231884057971015, 'eval_runtime': 6.0722, 'eval_samples_per_second': 113.633, 'epoch': 0.18}\n",
            "{'loss': 0.2313, 'learning_rate': 9.5e-06, 'epoch': 0.19}\n",
            "{'eval_loss': 0.21334515511989594, 'eval_f1': 0.06231884057971015, 'eval_runtime': 6.0826, 'eval_samples_per_second': 113.438, 'epoch': 0.19}\n",
            "{'loss': 0.2353, 'learning_rate': 1e-05, 'epoch': 0.2}\n",
            "{'eval_loss': 0.20679309964179993, 'eval_f1': 0.06897407675018874, 'eval_runtime': 6.1443, 'eval_samples_per_second': 112.299, 'epoch': 0.2}\n",
            "{'loss': 0.1532, 'learning_rate': 1.05e-05, 'epoch': 0.21}\n",
            "{'eval_loss': 0.20156356692314148, 'eval_f1': 0.1503073790997228, 'eval_runtime': 6.0547, 'eval_samples_per_second': 113.961, 'epoch': 0.21}\n",
            "{'loss': 0.173, 'learning_rate': 1.1000000000000001e-05, 'epoch': 0.22}\n",
            "{'eval_loss': 0.20178881287574768, 'eval_f1': 0.3250273638172602, 'eval_runtime': 6.1112, 'eval_samples_per_second': 112.907, 'epoch': 0.22}\n",
            "{'loss': 0.2673, 'learning_rate': 1.1500000000000002e-05, 'epoch': 0.23}\n",
            "{'eval_loss': 0.1968080848455429, 'eval_f1': 0.5066495233459398, 'eval_runtime': 6.0555, 'eval_samples_per_second': 113.947, 'epoch': 0.23}\n",
            "{'loss': 0.2254, 'learning_rate': 1.2e-05, 'epoch': 0.24}\n",
            "{'eval_loss': 0.19390124082565308, 'eval_f1': 0.5104708912733696, 'eval_runtime': 6.0564, 'eval_samples_per_second': 113.928, 'epoch': 0.24}\n",
            "{'loss': 0.4735, 'learning_rate': 1.25e-05, 'epoch': 0.25}\n",
            "{'eval_loss': 0.19660788774490356, 'eval_f1': 0.5376855595708937, 'eval_runtime': 6.1641, 'eval_samples_per_second': 111.938, 'epoch': 0.25}\n",
            "{'loss': 0.2211, 'learning_rate': 1.3000000000000001e-05, 'epoch': 0.26}\n",
            "{'eval_loss': 0.1911953240633011, 'eval_f1': 0.5062249217739169, 'eval_runtime': 6.0418, 'eval_samples_per_second': 114.204, 'epoch': 0.26}\n",
            "{'loss': 0.2086, 'learning_rate': 1.3500000000000001e-05, 'epoch': 0.27}\n",
            "{'eval_loss': 0.19007593393325806, 'eval_f1': 0.5277711334748055, 'eval_runtime': 6.0892, 'eval_samples_per_second': 113.316, 'epoch': 0.27}\n",
            "{'loss': 0.2623, 'learning_rate': 1.4000000000000001e-05, 'epoch': 0.28}\n",
            "{'eval_loss': 0.18889188766479492, 'eval_f1': 0.5340576177293663, 'eval_runtime': 6.0686, 'eval_samples_per_second': 113.7, 'epoch': 0.28}\n",
            "{'loss': 0.1774, 'learning_rate': 1.45e-05, 'epoch': 0.29}\n",
            "{'eval_loss': 0.18873131275177002, 'eval_f1': 0.4880884285539046, 'eval_runtime': 6.0825, 'eval_samples_per_second': 113.44, 'epoch': 0.29}\n",
            "{'loss': 0.1651, 'learning_rate': 1.5e-05, 'epoch': 0.3}\n",
            "{'eval_loss': 0.18698512017726898, 'eval_f1': 0.5449100169481936, 'eval_runtime': 6.0446, 'eval_samples_per_second': 114.152, 'epoch': 0.3}\n",
            "{'loss': 0.1735, 'learning_rate': 1.55e-05, 'epoch': 0.31}\n",
            "{'eval_loss': 0.187764972448349, 'eval_f1': 0.5902599390035257, 'eval_runtime': 6.05, 'eval_samples_per_second': 114.049, 'epoch': 0.31}\n",
            "{'loss': 0.2286, 'learning_rate': 1.6000000000000003e-05, 'epoch': 0.32}\n",
            "{'eval_loss': 0.19072102010250092, 'eval_f1': 0.6264528477928429, 'eval_runtime': 6.1987, 'eval_samples_per_second': 111.314, 'epoch': 0.32}\n",
            "{'loss': 0.2521, 'learning_rate': 1.65e-05, 'epoch': 0.33}\n",
            "{'eval_loss': 0.1861662119626999, 'eval_f1': 0.6150118730125934, 'eval_runtime': 6.0369, 'eval_samples_per_second': 114.296, 'epoch': 0.33}\n",
            "{'loss': 0.1407, 'learning_rate': 1.7000000000000003e-05, 'epoch': 0.34}\n",
            "{'eval_loss': 0.18708732724189758, 'eval_f1': 0.6085125589592958, 'eval_runtime': 6.0648, 'eval_samples_per_second': 113.771, 'epoch': 0.34}\n",
            "{'loss': 0.2586, 'learning_rate': 1.75e-05, 'epoch': 0.35}\n",
            "{'eval_loss': 0.19975480437278748, 'eval_f1': 0.6335420184416994, 'eval_runtime': 6.0383, 'eval_samples_per_second': 114.271, 'epoch': 0.35}\n",
            "{'loss': 0.231, 'learning_rate': 1.8e-05, 'epoch': 0.36}\n",
            "{'eval_loss': 0.17886030673980713, 'eval_f1': 0.6057564804004757, 'eval_runtime': 6.1287, 'eval_samples_per_second': 112.585, 'epoch': 0.36}\n",
            "{'loss': 0.1257, 'learning_rate': 1.85e-05, 'epoch': 0.37}\n",
            "{'eval_loss': 0.195909783244133, 'eval_f1': 0.4975005501806179, 'eval_runtime': 6.0269, 'eval_samples_per_second': 114.486, 'epoch': 0.37}\n",
            "{'loss': 0.1722, 'learning_rate': 1.9e-05, 'epoch': 0.38}\n",
            "{'eval_loss': 0.18359363079071045, 'eval_f1': 0.6228517759482501, 'eval_runtime': 6.0646, 'eval_samples_per_second': 113.775, 'epoch': 0.38}\n",
            "{'loss': 0.1486, 'learning_rate': 1.9500000000000003e-05, 'epoch': 0.39}\n",
            "{'eval_loss': 0.184766486287117, 'eval_f1': 0.6327129914830163, 'eval_runtime': 6.2267, 'eval_samples_per_second': 110.814, 'epoch': 0.39}\n",
            "{'loss': 0.1701, 'learning_rate': 2e-05, 'epoch': 0.4}\n",
            "{'eval_loss': 0.1816544383764267, 'eval_f1': 0.6104574916212989, 'eval_runtime': 6.2895, 'eval_samples_per_second': 109.706, 'epoch': 0.4}\n",
            "{'loss': 0.2326, 'learning_rate': 2.05e-05, 'epoch': 0.41}\n",
            "{'eval_loss': 0.17935092747211456, 'eval_f1': 0.5980367400170327, 'eval_runtime': 6.0416, 'eval_samples_per_second': 114.209, 'epoch': 0.41}\n",
            "{'loss': 0.4462, 'learning_rate': 2.1e-05, 'epoch': 0.42}\n",
            "{'eval_loss': 0.19170968234539032, 'eval_f1': 0.629634338890049, 'eval_runtime': 6.0506, 'eval_samples_per_second': 114.039, 'epoch': 0.42}\n",
            "{'loss': 0.2725, 'learning_rate': 2.15e-05, 'epoch': 0.43}\n",
            "{'eval_loss': 0.20734520256519318, 'eval_f1': 0.6394289208605344, 'eval_runtime': 6.0677, 'eval_samples_per_second': 113.716, 'epoch': 0.43}\n",
            "{'loss': 0.2247, 'learning_rate': 2.2000000000000003e-05, 'epoch': 0.44}\n",
            "{'eval_loss': 0.17671550810337067, 'eval_f1': 0.5943181754046479, 'eval_runtime': 6.0567, 'eval_samples_per_second': 113.924, 'epoch': 0.44}\n",
            "{'loss': 0.2546, 'learning_rate': 2.25e-05, 'epoch': 0.45}\n",
            "{'eval_loss': 0.18197792768478394, 'eval_f1': 0.5727857502836055, 'eval_runtime': 6.0464, 'eval_samples_per_second': 114.117, 'epoch': 0.45}\n",
            "{'loss': 0.2566, 'learning_rate': 2.3000000000000003e-05, 'epoch': 0.46}\n",
            "{'eval_loss': 0.18596777319908142, 'eval_f1': 0.6576513287950122, 'eval_runtime': 6.2633, 'eval_samples_per_second': 110.166, 'epoch': 0.46}\n",
            "{'loss': 0.1503, 'learning_rate': 2.35e-05, 'epoch': 0.47}\n",
            "{'eval_loss': 0.17823399603366852, 'eval_f1': 0.6503940993956197, 'eval_runtime': 6.0809, 'eval_samples_per_second': 113.469, 'epoch': 0.47}\n",
            "{'loss': 0.1767, 'learning_rate': 2.4e-05, 'epoch': 0.48}\n",
            "{'eval_loss': 0.17848195135593414, 'eval_f1': 0.64925991459879, 'eval_runtime': 6.1165, 'eval_samples_per_second': 112.809, 'epoch': 0.48}\n",
            "{'loss': 0.2692, 'learning_rate': 2.45e-05, 'epoch': 0.49}\n",
            "{'eval_loss': 0.175779789686203, 'eval_f1': 0.6418594600404285, 'eval_runtime': 6.0637, 'eval_samples_per_second': 113.791, 'epoch': 0.49}\n",
            "{'loss': 0.2289, 'learning_rate': 2.5e-05, 'epoch': 0.5}\n",
            "{'eval_loss': 0.17434772849082947, 'eval_f1': 0.5478938718306632, 'eval_runtime': 6.0377, 'eval_samples_per_second': 114.281, 'epoch': 0.5}\n",
            "{'loss': 0.1862, 'learning_rate': 2.5500000000000003e-05, 'epoch': 0.51}\n",
            "{'eval_loss': 0.1720227152109146, 'eval_f1': 0.6240013798920766, 'eval_runtime': 6.0564, 'eval_samples_per_second': 113.928, 'epoch': 0.51}\n",
            "{'loss': 0.1303, 'learning_rate': 2.6000000000000002e-05, 'epoch': 0.52}\n",
            "{'eval_loss': 0.17622601985931396, 'eval_f1': 0.62714738459912, 'eval_runtime': 6.0565, 'eval_samples_per_second': 113.927, 'epoch': 0.52}\n",
            "{'loss': 0.3788, 'learning_rate': 2.6500000000000004e-05, 'epoch': 0.53}\n",
            "{'eval_loss': 0.17861215770244598, 'eval_f1': 0.6542632031868966, 'eval_runtime': 6.2312, 'eval_samples_per_second': 110.733, 'epoch': 0.53}\n",
            "{'loss': 0.2178, 'learning_rate': 2.7000000000000002e-05, 'epoch': 0.54}\n",
            "{'eval_loss': 0.18052606284618378, 'eval_f1': 0.665782135573946, 'eval_runtime': 6.0679, 'eval_samples_per_second': 113.713, 'epoch': 0.54}\n",
            "{'loss': 0.205, 'learning_rate': 2.7500000000000004e-05, 'epoch': 0.55}\n",
            "{'eval_loss': 0.171674907207489, 'eval_f1': 0.6127665027032574, 'eval_runtime': 6.0512, 'eval_samples_per_second': 114.028, 'epoch': 0.55}\n",
            "{'loss': 0.1884, 'learning_rate': 2.8000000000000003e-05, 'epoch': 0.56}\n",
            "{'eval_loss': 0.1732986867427826, 'eval_f1': 0.6355870216388372, 'eval_runtime': 6.0839, 'eval_samples_per_second': 113.414, 'epoch': 0.56}\n",
            "{'loss': 0.211, 'learning_rate': 2.8499999999999998e-05, 'epoch': 0.57}\n",
            "{'eval_loss': 0.1749039590358734, 'eval_f1': 0.6669908731822106, 'eval_runtime': 6.085, 'eval_samples_per_second': 113.393, 'epoch': 0.57}\n",
            "{'loss': 0.2157, 'learning_rate': 2.9e-05, 'epoch': 0.58}\n",
            "{'eval_loss': 0.17129617929458618, 'eval_f1': 0.6602581431710628, 'eval_runtime': 6.0767, 'eval_samples_per_second': 113.549, 'epoch': 0.58}\n",
            "{'loss': 0.2351, 'learning_rate': 2.95e-05, 'epoch': 0.59}\n",
            "{'eval_loss': 0.17349444329738617, 'eval_f1': 0.6537895527830472, 'eval_runtime': 6.0741, 'eval_samples_per_second': 113.597, 'epoch': 0.59}\n",
            "{'loss': 0.2269, 'learning_rate': 3e-05, 'epoch': 0.6}\n",
            "{'eval_loss': 0.17505799233913422, 'eval_f1': 0.6533478924882202, 'eval_runtime': 6.2822, 'eval_samples_per_second': 109.835, 'epoch': 0.6}\n",
            "{'loss': 0.1563, 'learning_rate': 3.05e-05, 'epoch': 0.61}\n",
            "{'eval_loss': 0.18163838982582092, 'eval_f1': 0.6394389085549662, 'eval_runtime': 6.0499, 'eval_samples_per_second': 114.052, 'epoch': 0.61}\n",
            "{'loss': 0.2577, 'learning_rate': 3.1e-05, 'epoch': 0.62}\n",
            "{'eval_loss': 0.18411098420619965, 'eval_f1': 0.660413558713592, 'eval_runtime': 6.0711, 'eval_samples_per_second': 113.654, 'epoch': 0.62}\n",
            "{'loss': 0.1795, 'learning_rate': 3.15e-05, 'epoch': 0.63}\n",
            "{'eval_loss': 0.17229574918746948, 'eval_f1': 0.6629180547295436, 'eval_runtime': 6.0675, 'eval_samples_per_second': 113.721, 'epoch': 0.63}\n",
            "{'loss': 0.1498, 'learning_rate': 3.2000000000000005e-05, 'epoch': 0.64}\n",
            "{'eval_loss': 0.17692233622074127, 'eval_f1': 0.5233888996836357, 'eval_runtime': 6.0459, 'eval_samples_per_second': 114.127, 'epoch': 0.64}\n",
            "{'loss': 0.4214, 'learning_rate': 3.2500000000000004e-05, 'epoch': 0.65}\n",
            "{'eval_loss': 0.1813986897468567, 'eval_f1': 0.6479616687443436, 'eval_runtime': 6.0661, 'eval_samples_per_second': 113.748, 'epoch': 0.65}\n",
            "{'loss': 0.1355, 'learning_rate': 3.3e-05, 'epoch': 0.66}\n",
            "{'eval_loss': 0.1718650907278061, 'eval_f1': 0.6281563593234322, 'eval_runtime': 6.0593, 'eval_samples_per_second': 113.875, 'epoch': 0.66}\n",
            "{'loss': 0.3002, 'learning_rate': 3.35e-05, 'epoch': 0.67}\n",
            "{'eval_loss': 0.18135946989059448, 'eval_f1': 0.6564052027781385, 'eval_runtime': 6.1054, 'eval_samples_per_second': 113.014, 'epoch': 0.67}\n",
            "{'loss': 0.2484, 'learning_rate': 3.4000000000000007e-05, 'epoch': 0.68}\n",
            "{'eval_loss': 0.17785589396953583, 'eval_f1': 0.6758456969608267, 'eval_runtime': 6.0687, 'eval_samples_per_second': 113.698, 'epoch': 0.68}\n",
            "{'loss': 0.1988, 'learning_rate': 3.45e-05, 'epoch': 0.69}\n",
            "{'eval_loss': 0.1730782389640808, 'eval_f1': 0.6549902308439306, 'eval_runtime': 6.0479, 'eval_samples_per_second': 114.09, 'epoch': 0.69}\n",
            "{'loss': 0.2021, 'learning_rate': 3.5e-05, 'epoch': 0.7}\n",
            "{'eval_loss': 0.1708497852087021, 'eval_f1': 0.6304084076122441, 'eval_runtime': 6.0831, 'eval_samples_per_second': 113.428, 'epoch': 0.7}\n",
            "{'loss': 0.2708, 'learning_rate': 3.55e-05, 'epoch': 0.71}\n",
            "{'eval_loss': 0.17213408648967743, 'eval_f1': 0.6601684412256071, 'eval_runtime': 6.1481, 'eval_samples_per_second': 112.23, 'epoch': 0.71}\n",
            "{'loss': 0.2553, 'learning_rate': 3.6e-05, 'epoch': 0.72}\n",
            "{'eval_loss': 0.17345713078975677, 'eval_f1': 0.6559233302572892, 'eval_runtime': 6.0641, 'eval_samples_per_second': 113.784, 'epoch': 0.72}\n",
            "{'loss': 0.1552, 'learning_rate': 3.65e-05, 'epoch': 0.73}\n",
            "{'eval_loss': 0.17904627323150635, 'eval_f1': 0.6169993826491178, 'eval_runtime': 6.0432, 'eval_samples_per_second': 114.179, 'epoch': 0.73}\n",
            "{'loss': 0.1802, 'learning_rate': 3.7e-05, 'epoch': 0.74}\n",
            "{'eval_loss': 0.18166305124759674, 'eval_f1': 0.6761701596541514, 'eval_runtime': 6.0788, 'eval_samples_per_second': 113.509, 'epoch': 0.74}\n",
            "{'loss': 0.2454, 'learning_rate': 3.7500000000000003e-05, 'epoch': 0.75}\n",
            "{'eval_loss': 0.17715568840503693, 'eval_f1': 0.674165711800792, 'eval_runtime': 6.0958, 'eval_samples_per_second': 113.193, 'epoch': 0.75}\n",
            "{'loss': 0.2008, 'learning_rate': 3.8e-05, 'epoch': 0.76}\n",
            "{'eval_loss': 0.1735801249742508, 'eval_f1': 0.6649356437000699, 'eval_runtime': 6.0919, 'eval_samples_per_second': 113.265, 'epoch': 0.76}\n",
            "{'loss': 0.2432, 'learning_rate': 3.85e-05, 'epoch': 0.77}\n",
            "{'eval_loss': 0.17380008101463318, 'eval_f1': 0.4931193202525927, 'eval_runtime': 6.0576, 'eval_samples_per_second': 113.906, 'epoch': 0.77}\n",
            "{'loss': 0.1683, 'learning_rate': 3.9000000000000006e-05, 'epoch': 0.78}\n",
            "{'eval_loss': 0.17374037206172943, 'eval_f1': 0.5456407314147176, 'eval_runtime': 6.0563, 'eval_samples_per_second': 113.931, 'epoch': 0.78}\n",
            "{'loss': 0.1901, 'learning_rate': 3.9500000000000005e-05, 'epoch': 0.79}\n",
            "{'eval_loss': 0.17653855681419373, 'eval_f1': 0.6584025368434149, 'eval_runtime': 6.0547, 'eval_samples_per_second': 113.962, 'epoch': 0.79}\n",
            "{'loss': 0.2662, 'learning_rate': 4e-05, 'epoch': 0.8}\n",
            "{'eval_loss': 0.17463548481464386, 'eval_f1': 0.6788258604815544, 'eval_runtime': 6.0683, 'eval_samples_per_second': 113.706, 'epoch': 0.8}\n",
            "{'loss': 0.1341, 'learning_rate': 4.05e-05, 'epoch': 0.81}\n",
            "{'eval_loss': 0.1728084683418274, 'eval_f1': 0.6706483019210059, 'eval_runtime': 6.0472, 'eval_samples_per_second': 114.101, 'epoch': 0.81}\n",
            "{'loss': 0.2115, 'learning_rate': 4.1e-05, 'epoch': 0.82}\n",
            "{'eval_loss': 0.17228303849697113, 'eval_f1': 0.6757227215833024, 'eval_runtime': 6.0603, 'eval_samples_per_second': 113.856, 'epoch': 0.82}\n",
            "{'loss': 0.2379, 'learning_rate': 4.15e-05, 'epoch': 0.84}\n",
            "{'eval_loss': 0.1740364134311676, 'eval_f1': 0.6577756065591238, 'eval_runtime': 6.0826, 'eval_samples_per_second': 113.438, 'epoch': 0.84}\n",
            "{'loss': 0.1234, 'learning_rate': 4.2e-05, 'epoch': 0.85}\n",
            "{'eval_loss': 0.18595489859580994, 'eval_f1': 0.4079693378900726, 'eval_runtime': 6.0738, 'eval_samples_per_second': 113.603, 'epoch': 0.85}\n",
            "{'loss': 0.1496, 'learning_rate': 4.25e-05, 'epoch': 0.86}\n",
            "{'eval_loss': 0.178192600607872, 'eval_f1': 0.647505816842413, 'eval_runtime': 6.0408, 'eval_samples_per_second': 114.222, 'epoch': 0.86}\n",
            "{'loss': 0.1349, 'learning_rate': 4.3e-05, 'epoch': 0.87}\n",
            "{'eval_loss': 0.17734494805335999, 'eval_f1': 0.6726425836065006, 'eval_runtime': 6.0715, 'eval_samples_per_second': 113.645, 'epoch': 0.87}\n",
            "{'loss': 0.2713, 'learning_rate': 4.35e-05, 'epoch': 0.88}\n",
            "{'eval_loss': 0.17866651713848114, 'eval_f1': 0.6757015260906903, 'eval_runtime': 6.0868, 'eval_samples_per_second': 113.36, 'epoch': 0.88}\n",
            "{'loss': 0.3293, 'learning_rate': 4.4000000000000006e-05, 'epoch': 0.89}\n",
            "{'eval_loss': 0.16861791908740997, 'eval_f1': 0.6286320625982653, 'eval_runtime': 6.0321, 'eval_samples_per_second': 114.388, 'epoch': 0.89}\n",
            "{'loss': 0.1856, 'learning_rate': 4.4500000000000004e-05, 'epoch': 0.9}\n",
            "{'eval_loss': 0.17477278411388397, 'eval_f1': 0.5933322015305096, 'eval_runtime': 6.0634, 'eval_samples_per_second': 113.797, 'epoch': 0.9}\n",
            "{'loss': 0.4307, 'learning_rate': 4.5e-05, 'epoch': 0.91}\n",
            "{'eval_loss': 0.17802944779396057, 'eval_f1': 0.6561072843636883, 'eval_runtime': 6.0455, 'eval_samples_per_second': 114.134, 'epoch': 0.91}\n",
            "{'loss': 0.1482, 'learning_rate': 4.55e-05, 'epoch': 0.92}\n",
            "{'eval_loss': 0.17265866696834564, 'eval_f1': 0.6358273286308673, 'eval_runtime': 6.078, 'eval_samples_per_second': 113.524, 'epoch': 0.92}\n",
            "{'loss': 0.2626, 'learning_rate': 4.600000000000001e-05, 'epoch': 0.93}\n",
            "{'eval_loss': 0.1808263212442398, 'eval_f1': 0.658570410620292, 'eval_runtime': 6.0536, 'eval_samples_per_second': 113.982, 'epoch': 0.93}\n",
            "{'loss': 0.1537, 'learning_rate': 4.6500000000000005e-05, 'epoch': 0.94}\n",
            "{'eval_loss': 0.16883990168571472, 'eval_f1': 0.6694384310380325, 'eval_runtime': 6.0625, 'eval_samples_per_second': 113.814, 'epoch': 0.94}\n",
            "{'loss': 0.2916, 'learning_rate': 4.7e-05, 'epoch': 0.95}\n",
            "{'eval_loss': 0.17644891142845154, 'eval_f1': 0.6704531104997591, 'eval_runtime': 6.0777, 'eval_samples_per_second': 113.531, 'epoch': 0.95}\n",
            "{'loss': 0.201, 'learning_rate': 4.75e-05, 'epoch': 0.96}\n",
            "{'eval_loss': 0.17136076092720032, 'eval_f1': 0.5374056033810696, 'eval_runtime': 6.0695, 'eval_samples_per_second': 113.682, 'epoch': 0.96}\n",
            "{'loss': 0.1694, 'learning_rate': 4.8e-05, 'epoch': 0.97}\n",
            "{'eval_loss': 0.1739250123500824, 'eval_f1': 0.5912731297518741, 'eval_runtime': 6.0407, 'eval_samples_per_second': 114.225, 'epoch': 0.97}\n",
            "{'loss': 0.4219, 'learning_rate': 4.85e-05, 'epoch': 0.98}\n",
            "{'eval_loss': 0.16757120192050934, 'eval_f1': 0.6774965221080591, 'eval_runtime': 6.0571, 'eval_samples_per_second': 113.916, 'epoch': 0.98}\n",
            "{'loss': 0.1833, 'learning_rate': 4.9e-05, 'epoch': 0.99}\n",
            "{'eval_loss': 0.17332427203655243, 'eval_f1': 0.6479738493740095, 'eval_runtime': 6.0536, 'eval_samples_per_second': 113.982, 'epoch': 0.99}\n",
            "{'loss': 0.1896, 'learning_rate': 4.9500000000000004e-05, 'epoch': 1.0}\n",
            "{'eval_loss': 0.17097342014312744, 'eval_f1': 0.6894995467049951, 'eval_runtime': 6.035, 'eval_samples_per_second': 114.334, 'epoch': 1.0}\n",
            "{'loss': 0.2098, 'learning_rate': 5e-05, 'epoch': 1.01}\n",
            "{'eval_loss': 0.19202712178230286, 'eval_f1': 0.6719643233363513, 'eval_runtime': 6.0864, 'eval_samples_per_second': 113.367, 'epoch': 1.01}\n",
            "{'loss': 0.2009, 'learning_rate': 4.9493927125506076e-05, 'epoch': 1.02}\n",
            "{'eval_loss': 0.17187467217445374, 'eval_f1': 0.6244996997734166, 'eval_runtime': 6.0428, 'eval_samples_per_second': 114.185, 'epoch': 1.02}\n",
            "{'loss': 0.1782, 'learning_rate': 4.898785425101215e-05, 'epoch': 1.03}\n",
            "{'eval_loss': 0.17042599618434906, 'eval_f1': 0.5844861855927238, 'eval_runtime': 6.2414, 'eval_samples_per_second': 110.553, 'epoch': 1.03}\n",
            "{'loss': 0.1229, 'learning_rate': 4.848178137651822e-05, 'epoch': 1.04}\n",
            "{'eval_loss': 0.17362675070762634, 'eval_f1': 0.6505136705419056, 'eval_runtime': 6.0813, 'eval_samples_per_second': 113.462, 'epoch': 1.04}\n",
            "{'loss': 0.1786, 'learning_rate': 4.797570850202429e-05, 'epoch': 1.05}\n",
            "{'eval_loss': 0.17905473709106445, 'eval_f1': 0.6813224476152042, 'eval_runtime': 6.1448, 'eval_samples_per_second': 112.291, 'epoch': 1.05}\n",
            "{'loss': 0.1983, 'learning_rate': 4.746963562753037e-05, 'epoch': 1.06}\n",
            "{'eval_loss': 0.17273850739002228, 'eval_f1': 0.6849534886009546, 'eval_runtime': 6.0512, 'eval_samples_per_second': 114.027, 'epoch': 1.06}\n",
            "{'loss': 0.249, 'learning_rate': 4.6963562753036435e-05, 'epoch': 1.07}\n",
            "{'eval_loss': 0.1699639856815338, 'eval_f1': 0.6336264144913833, 'eval_runtime': 6.046, 'eval_samples_per_second': 114.125, 'epoch': 1.07}\n",
            "{'loss': 0.1193, 'learning_rate': 4.6457489878542516e-05, 'epoch': 1.08}\n",
            "{'eval_loss': 0.1745941936969757, 'eval_f1': 0.6096744488204702, 'eval_runtime': 6.0306, 'eval_samples_per_second': 114.416, 'epoch': 1.08}\n",
            "{'loss': 0.1486, 'learning_rate': 4.595141700404859e-05, 'epoch': 1.09}\n",
            "{'eval_loss': 0.1751684844493866, 'eval_f1': 0.6717581980838496, 'eval_runtime': 6.075, 'eval_samples_per_second': 113.58, 'epoch': 1.09}\n",
            "{'loss': 0.3817, 'learning_rate': 4.5445344129554655e-05, 'epoch': 1.1}\n",
            "{'eval_loss': 0.17573527991771698, 'eval_f1': 0.6796945112493957, 'eval_runtime': 6.2394, 'eval_samples_per_second': 110.588, 'epoch': 1.1}\n",
            "{'loss': 0.3387, 'learning_rate': 4.4939271255060735e-05, 'epoch': 1.11}\n",
            "{'eval_loss': 0.18715883791446686, 'eval_f1': 0.6759403829290421, 'eval_runtime': 6.0801, 'eval_samples_per_second': 113.485, 'epoch': 1.11}\n",
            "{'loss': 0.1636, 'learning_rate': 4.44331983805668e-05, 'epoch': 1.12}\n",
            "{'eval_loss': 0.18612456321716309, 'eval_f1': 0.5016014241843539, 'eval_runtime': 6.0193, 'eval_samples_per_second': 114.631, 'epoch': 1.12}\n",
            "{'loss': 0.2318, 'learning_rate': 4.3927125506072875e-05, 'epoch': 1.13}\n",
            "{'eval_loss': 0.17141151428222656, 'eval_f1': 0.6522860909414381, 'eval_runtime': 6.1053, 'eval_samples_per_second': 113.017, 'epoch': 1.13}\n",
            "{'loss': 0.1898, 'learning_rate': 4.342105263157895e-05, 'epoch': 1.14}\n",
            "{'eval_loss': 0.18101763725280762, 'eval_f1': 0.67451191193216, 'eval_runtime': 6.0889, 'eval_samples_per_second': 113.321, 'epoch': 1.14}\n",
            "{'loss': 0.4348, 'learning_rate': 4.291497975708502e-05, 'epoch': 1.15}\n",
            "{'eval_loss': 0.18071705102920532, 'eval_f1': 0.682503371201383, 'eval_runtime': 6.0699, 'eval_samples_per_second': 113.676, 'epoch': 1.15}\n",
            "{'loss': 0.1387, 'learning_rate': 4.2408906882591095e-05, 'epoch': 1.16}\n",
            "{'eval_loss': 0.16587531566619873, 'eval_f1': 0.6641702354674512, 'eval_runtime': 6.0431, 'eval_samples_per_second': 114.18, 'epoch': 1.16}\n",
            "{'loss': 0.2871, 'learning_rate': 4.190283400809717e-05, 'epoch': 1.17}\n",
            "{'eval_loss': 0.17224574089050293, 'eval_f1': 0.6271740533580562, 'eval_runtime': 6.1688, 'eval_samples_per_second': 111.853, 'epoch': 1.17}\n",
            "{'loss': 0.194, 'learning_rate': 4.139676113360324e-05, 'epoch': 1.18}\n",
            "{'eval_loss': 0.1662278175354004, 'eval_f1': 0.6674526741867645, 'eval_runtime': 6.1313, 'eval_samples_per_second': 112.538, 'epoch': 1.18}\n",
            "{'loss': 0.1338, 'learning_rate': 4.089068825910931e-05, 'epoch': 1.19}\n",
            "{'eval_loss': 0.1691674441099167, 'eval_f1': 0.6738632701570758, 'eval_runtime': 6.0573, 'eval_samples_per_second': 113.912, 'epoch': 1.19}\n",
            "{'loss': 0.1639, 'learning_rate': 4.038461538461539e-05, 'epoch': 1.2}\n",
            "{'eval_loss': 0.17989198863506317, 'eval_f1': 0.6500998891130064, 'eval_runtime': 6.0803, 'eval_samples_per_second': 113.482, 'epoch': 1.2}\n",
            "{'loss': 0.2383, 'learning_rate': 3.9878542510121455e-05, 'epoch': 1.21}\n",
            "{'eval_loss': 0.16970773041248322, 'eval_f1': 0.630954190804808, 'eval_runtime': 6.0572, 'eval_samples_per_second': 113.915, 'epoch': 1.21}\n",
            "{'loss': 0.2192, 'learning_rate': 3.9372469635627535e-05, 'epoch': 1.22}\n",
            "{'eval_loss': 0.16585546731948853, 'eval_f1': 0.639856361133366, 'eval_runtime': 6.1939, 'eval_samples_per_second': 111.4, 'epoch': 1.22}\n",
            "{'loss': 0.1717, 'learning_rate': 3.886639676113361e-05, 'epoch': 1.23}\n",
            "{'eval_loss': 0.16804000735282898, 'eval_f1': 0.676221201461179, 'eval_runtime': 6.0564, 'eval_samples_per_second': 113.93, 'epoch': 1.23}\n",
            "{'loss': 0.1716, 'learning_rate': 3.8360323886639675e-05, 'epoch': 1.24}\n",
            "{'eval_loss': 0.1676860898733139, 'eval_f1': 0.6312739532092846, 'eval_runtime': 6.0592, 'eval_samples_per_second': 113.877, 'epoch': 1.24}\n",
            "{'loss': 0.1702, 'learning_rate': 3.7854251012145755e-05, 'epoch': 1.25}\n",
            "{'eval_loss': 0.17158082127571106, 'eval_f1': 0.6069791531270577, 'eval_runtime': 6.0766, 'eval_samples_per_second': 113.55, 'epoch': 1.25}\n",
            "{'loss': 0.1649, 'learning_rate': 3.734817813765182e-05, 'epoch': 1.26}\n",
            "{'eval_loss': 0.1674121618270874, 'eval_f1': 0.6494505385086071, 'eval_runtime': 6.2429, 'eval_samples_per_second': 110.525, 'epoch': 1.26}\n",
            "{'loss': 0.2054, 'learning_rate': 3.6842105263157895e-05, 'epoch': 1.27}\n",
            "{'eval_loss': 0.16941887140274048, 'eval_f1': 0.672618608371815, 'eval_runtime': 6.0422, 'eval_samples_per_second': 114.196, 'epoch': 1.27}\n",
            "{'loss': 0.3908, 'learning_rate': 3.633603238866397e-05, 'epoch': 1.28}\n",
            "{'eval_loss': 0.16703404486179352, 'eval_f1': 0.6612865182387981, 'eval_runtime': 6.0628, 'eval_samples_per_second': 113.809, 'epoch': 1.28}\n",
            "{'loss': 0.1545, 'learning_rate': 3.582995951417004e-05, 'epoch': 1.29}\n",
            "{'eval_loss': 0.16701646149158478, 'eval_f1': 0.6132106446195336, 'eval_runtime': 6.0547, 'eval_samples_per_second': 113.962, 'epoch': 1.29}\n",
            "{'loss': 0.2658, 'learning_rate': 3.5323886639676115e-05, 'epoch': 1.3}\n",
            "{'eval_loss': 0.16637691855430603, 'eval_f1': 0.6155354565900425, 'eval_runtime': 6.1662, 'eval_samples_per_second': 111.901, 'epoch': 1.3}\n",
            "{'loss': 0.1173, 'learning_rate': 3.481781376518219e-05, 'epoch': 1.31}\n",
            "{'eval_loss': 0.16673412919044495, 'eval_f1': 0.5837695268878408, 'eval_runtime': 6.2291, 'eval_samples_per_second': 110.771, 'epoch': 1.31}\n",
            "{'loss': 0.177, 'learning_rate': 3.431174089068826e-05, 'epoch': 1.32}\n",
            "{'eval_loss': 0.1731792837381363, 'eval_f1': 0.5680978231589737, 'eval_runtime': 6.0809, 'eval_samples_per_second': 113.47, 'epoch': 1.32}\n",
            "{'loss': 0.1709, 'learning_rate': 3.3805668016194335e-05, 'epoch': 1.33}\n",
            "{'eval_loss': 0.16952377557754517, 'eval_f1': 0.6318696352962725, 'eval_runtime': 6.0622, 'eval_samples_per_second': 113.82, 'epoch': 1.33}\n",
            "{'loss': 0.1454, 'learning_rate': 3.329959514170041e-05, 'epoch': 1.34}\n",
            "{'eval_loss': 0.16988541185855865, 'eval_f1': 0.6859763744002656, 'eval_runtime': 6.0829, 'eval_samples_per_second': 113.433, 'epoch': 1.34}\n",
            "{'loss': 0.1838, 'learning_rate': 3.279352226720648e-05, 'epoch': 1.35}\n",
            "{'eval_loss': 0.1734645515680313, 'eval_f1': 0.6772303719200552, 'eval_runtime': 6.0423, 'eval_samples_per_second': 114.194, 'epoch': 1.35}\n",
            "{'loss': 0.2892, 'learning_rate': 3.2287449392712554e-05, 'epoch': 1.36}\n",
            "{'eval_loss': 0.1670415699481964, 'eval_f1': 0.6748257809048769, 'eval_runtime': 6.0395, 'eval_samples_per_second': 114.248, 'epoch': 1.36}\n",
            "{'loss': 0.3279, 'learning_rate': 3.178137651821863e-05, 'epoch': 1.37}\n",
            "{'eval_loss': 0.16845592856407166, 'eval_f1': 0.6841625475451072, 'eval_runtime': 6.065, 'eval_samples_per_second': 113.767, 'epoch': 1.37}\n",
            "{'loss': 0.213, 'learning_rate': 3.1275303643724694e-05, 'epoch': 1.38}\n",
            "{'eval_loss': 0.16675004363059998, 'eval_f1': 0.6661913246668577, 'eval_runtime': 6.0795, 'eval_samples_per_second': 113.496, 'epoch': 1.38}\n",
            "{'loss': 0.2301, 'learning_rate': 3.0769230769230774e-05, 'epoch': 1.39}\n",
            "{'eval_loss': 0.16820484399795532, 'eval_f1': 0.607814642803874, 'eval_runtime': 6.0541, 'eval_samples_per_second': 113.972, 'epoch': 1.39}\n",
            "{'loss': 0.245, 'learning_rate': 3.0263157894736844e-05, 'epoch': 1.4}\n",
            "{'eval_loss': 0.16658750176429749, 'eval_f1': 0.6638281762199919, 'eval_runtime': 6.0459, 'eval_samples_per_second': 114.127, 'epoch': 1.4}\n",
            "{'loss': 0.1758, 'learning_rate': 2.9757085020242914e-05, 'epoch': 1.41}\n",
            "{'eval_loss': 0.16639380156993866, 'eval_f1': 0.6566312118316991, 'eval_runtime': 6.0696, 'eval_samples_per_second': 113.681, 'epoch': 1.41}\n",
            "{'loss': 0.1146, 'learning_rate': 2.925101214574899e-05, 'epoch': 1.42}\n",
            "{'eval_loss': 0.16960802674293518, 'eval_f1': 0.670378222521043, 'eval_runtime': 6.097, 'eval_samples_per_second': 113.17, 'epoch': 1.42}\n",
            "{'loss': 0.2308, 'learning_rate': 2.874493927125506e-05, 'epoch': 1.43}\n",
            "{'eval_loss': 0.17916639149188995, 'eval_f1': 0.6770201389524775, 'eval_runtime': 6.093, 'eval_samples_per_second': 113.244, 'epoch': 1.43}\n",
            "{'loss': 0.1061, 'learning_rate': 2.823886639676113e-05, 'epoch': 1.44}\n",
            "{'eval_loss': 0.19069361686706543, 'eval_f1': 0.6365790753166405, 'eval_runtime': 6.1006, 'eval_samples_per_second': 113.104, 'epoch': 1.44}\n",
            "{'loss': 0.154, 'learning_rate': 2.7732793522267207e-05, 'epoch': 1.45}\n",
            "{'eval_loss': 0.18736620247364044, 'eval_f1': 0.5978682615167282, 'eval_runtime': 6.0821, 'eval_samples_per_second': 113.447, 'epoch': 1.45}\n",
            "{'loss': 0.1661, 'learning_rate': 2.722672064777328e-05, 'epoch': 1.46}\n",
            "{'eval_loss': 0.17363807559013367, 'eval_f1': 0.6532995220661909, 'eval_runtime': 6.0673, 'eval_samples_per_second': 113.725, 'epoch': 1.46}\n",
            "{'loss': 0.1746, 'learning_rate': 2.6720647773279357e-05, 'epoch': 1.47}\n",
            "{'eval_loss': 0.16946043074131012, 'eval_f1': 0.6721235507281637, 'eval_runtime': 6.0509, 'eval_samples_per_second': 114.032, 'epoch': 1.47}\n",
            "{'loss': 0.1336, 'learning_rate': 2.6214574898785427e-05, 'epoch': 1.48}\n",
            "{'eval_loss': 0.1702539026737213, 'eval_f1': 0.6722256915583806, 'eval_runtime': 6.0654, 'eval_samples_per_second': 113.76, 'epoch': 1.48}\n",
            "{'loss': 0.1346, 'learning_rate': 2.5708502024291497e-05, 'epoch': 1.49}\n",
            "{'eval_loss': 0.17407198250293732, 'eval_f1': 0.6739797582373176, 'eval_runtime': 6.0437, 'eval_samples_per_second': 114.168, 'epoch': 1.49}\n",
            "{'loss': 0.1773, 'learning_rate': 2.5202429149797574e-05, 'epoch': 1.5}\n",
            "{'eval_loss': 0.17504458129405975, 'eval_f1': 0.6752896215991374, 'eval_runtime': 6.053, 'eval_samples_per_second': 113.992, 'epoch': 1.5}\n",
            "{'loss': 0.5811, 'learning_rate': 2.4696356275303644e-05, 'epoch': 1.51}\n",
            "{'eval_loss': 0.1729358583688736, 'eval_f1': 0.6854231623475745, 'eval_runtime': 6.0487, 'eval_samples_per_second': 114.074, 'epoch': 1.51}\n",
            "{'loss': 0.1665, 'learning_rate': 2.4190283400809717e-05, 'epoch': 1.52}\n",
            "{'eval_loss': 0.17010825872421265, 'eval_f1': 0.6727725680937582, 'eval_runtime': 6.0672, 'eval_samples_per_second': 113.726, 'epoch': 1.52}\n",
            "{'loss': 0.1583, 'learning_rate': 2.368421052631579e-05, 'epoch': 1.53}\n",
            "{'eval_loss': 0.16839514672756195, 'eval_f1': 0.6590773534875836, 'eval_runtime': 6.1067, 'eval_samples_per_second': 112.991, 'epoch': 1.53}\n",
            "{'loss': 0.1511, 'learning_rate': 2.3178137651821864e-05, 'epoch': 1.54}\n",
            "{'eval_loss': 0.1692017763853073, 'eval_f1': 0.6202146314505486, 'eval_runtime': 6.072, 'eval_samples_per_second': 113.637, 'epoch': 1.54}\n",
            "{'loss': 0.3394, 'learning_rate': 2.2672064777327937e-05, 'epoch': 1.55}\n",
            "{'eval_loss': 0.16933324933052063, 'eval_f1': 0.6390370766097816, 'eval_runtime': 6.0693, 'eval_samples_per_second': 113.688, 'epoch': 1.55}\n",
            "{'loss': 0.2148, 'learning_rate': 2.216599190283401e-05, 'epoch': 1.56}\n",
            "{'eval_loss': 0.16833168268203735, 'eval_f1': 0.6781850339492198, 'eval_runtime': 6.0644, 'eval_samples_per_second': 113.779, 'epoch': 1.56}\n",
            "{'loss': 0.1355, 'learning_rate': 2.165991902834008e-05, 'epoch': 1.57}\n",
            "{'eval_loss': 0.168509379029274, 'eval_f1': 0.6731799731403135, 'eval_runtime': 6.1694, 'eval_samples_per_second': 111.842, 'epoch': 1.57}\n",
            "{'loss': 0.171, 'learning_rate': 2.1153846153846154e-05, 'epoch': 1.58}\n",
            "{'eval_loss': 0.1695263683795929, 'eval_f1': 0.6733398369933161, 'eval_runtime': 6.0495, 'eval_samples_per_second': 114.06, 'epoch': 1.58}\n",
            "{'loss': 0.1411, 'learning_rate': 2.0647773279352227e-05, 'epoch': 1.59}\n",
            "{'eval_loss': 0.1697988361120224, 'eval_f1': 0.661210213279823, 'eval_runtime': 6.046, 'eval_samples_per_second': 114.125, 'epoch': 1.59}\n",
            "{'loss': 0.2703, 'learning_rate': 2.0141700404858304e-05, 'epoch': 1.6}\n",
            "{'eval_loss': 0.16936512291431427, 'eval_f1': 0.6683778394023026, 'eval_runtime': 6.059, 'eval_samples_per_second': 113.88, 'epoch': 1.6}\n",
            "{'loss': 0.3207, 'learning_rate': 1.9635627530364373e-05, 'epoch': 1.61}\n",
            "{'eval_loss': 0.1695442646741867, 'eval_f1': 0.6711791904944682, 'eval_runtime': 6.2847, 'eval_samples_per_second': 109.791, 'epoch': 1.61}\n",
            "{'loss': 0.1345, 'learning_rate': 1.9129554655870447e-05, 'epoch': 1.62}\n",
            "{'eval_loss': 0.1678777039051056, 'eval_f1': 0.6333045811921264, 'eval_runtime': 6.0683, 'eval_samples_per_second': 113.707, 'epoch': 1.62}\n",
            "{'loss': 0.3148, 'learning_rate': 1.862348178137652e-05, 'epoch': 1.63}\n",
            "{'eval_loss': 0.16897189617156982, 'eval_f1': 0.618910335928391, 'eval_runtime': 6.051, 'eval_samples_per_second': 114.031, 'epoch': 1.63}\n",
            "{'loss': 0.3118, 'learning_rate': 1.811740890688259e-05, 'epoch': 1.64}\n",
            "{'eval_loss': 0.16741234064102173, 'eval_f1': 0.6262010656308125, 'eval_runtime': 6.042, 'eval_samples_per_second': 114.201, 'epoch': 1.64}\n",
            "{'loss': 0.2373, 'learning_rate': 1.7611336032388663e-05, 'epoch': 1.65}\n",
            "{'eval_loss': 0.16828982532024384, 'eval_f1': 0.6381793712631527, 'eval_runtime': 6.2736, 'eval_samples_per_second': 109.985, 'epoch': 1.65}\n",
            "{'loss': 0.1251, 'learning_rate': 1.7105263157894737e-05, 'epoch': 1.66}\n",
            "{'eval_loss': 0.16681306064128876, 'eval_f1': 0.6470234729300163, 'eval_runtime': 6.0555, 'eval_samples_per_second': 113.946, 'epoch': 1.66}\n",
            "{'loss': 0.1483, 'learning_rate': 1.6599190283400813e-05, 'epoch': 1.67}\n",
            "{'eval_loss': 0.1674746572971344, 'eval_f1': 0.6681905563861328, 'eval_runtime': 6.1098, 'eval_samples_per_second': 112.933, 'epoch': 1.67}\n",
            "{'loss': 0.2146, 'learning_rate': 1.6093117408906883e-05, 'epoch': 1.68}\n",
            "{'eval_loss': 0.17112134397029877, 'eval_f1': 0.6671054311565718, 'eval_runtime': 6.0518, 'eval_samples_per_second': 114.017, 'epoch': 1.68}\n",
            "{'loss': 0.1512, 'learning_rate': 1.5587044534412957e-05, 'epoch': 1.69}\n",
            "{'eval_loss': 0.17361462116241455, 'eval_f1': 0.6615512511312881, 'eval_runtime': 6.0769, 'eval_samples_per_second': 113.544, 'epoch': 1.69}\n",
            "{'loss': 0.2183, 'learning_rate': 1.508097165991903e-05, 'epoch': 1.7}\n",
            "{'eval_loss': 0.17278121411800385, 'eval_f1': 0.6715423063105237, 'eval_runtime': 6.0916, 'eval_samples_per_second': 113.271, 'epoch': 1.7}\n",
            "{'loss': 0.3177, 'learning_rate': 1.4574898785425101e-05, 'epoch': 1.71}\n",
            "{'eval_loss': 0.16931450366973877, 'eval_f1': 0.6774973642550491, 'eval_runtime': 6.0563, 'eval_samples_per_second': 113.931, 'epoch': 1.71}\n",
            "{'loss': 0.0961, 'learning_rate': 1.4068825910931175e-05, 'epoch': 1.72}\n",
            "{'eval_loss': 0.16776315867900848, 'eval_f1': 0.6587931771385628, 'eval_runtime': 6.0955, 'eval_samples_per_second': 113.197, 'epoch': 1.72}\n",
            "{'loss': 0.1807, 'learning_rate': 1.3562753036437248e-05, 'epoch': 1.73}\n",
            "{'eval_loss': 0.1675708144903183, 'eval_f1': 0.6549341367191492, 'eval_runtime': 6.07, 'eval_samples_per_second': 113.673, 'epoch': 1.73}\n",
            "{'loss': 0.1522, 'learning_rate': 1.3056680161943321e-05, 'epoch': 1.74}\n",
            "{'eval_loss': 0.16764087975025177, 'eval_f1': 0.6394620210422721, 'eval_runtime': 6.1211, 'eval_samples_per_second': 112.725, 'epoch': 1.74}\n",
            "{'loss': 0.1234, 'learning_rate': 1.2550607287449393e-05, 'epoch': 1.75}\n",
            "{'eval_loss': 0.16769033670425415, 'eval_f1': 0.6402624311583429, 'eval_runtime': 6.0746, 'eval_samples_per_second': 113.588, 'epoch': 1.75}\n",
            "{'loss': 0.2051, 'learning_rate': 1.2044534412955466e-05, 'epoch': 1.76}\n",
            "{'eval_loss': 0.16827133297920227, 'eval_f1': 0.6389622651365947, 'eval_runtime': 6.0564, 'eval_samples_per_second': 113.929, 'epoch': 1.76}\n",
            "{'loss': 0.1692, 'learning_rate': 1.153846153846154e-05, 'epoch': 1.77}\n",
            "{'eval_loss': 0.16826675832271576, 'eval_f1': 0.6465800014738354, 'eval_runtime': 6.0727, 'eval_samples_per_second': 113.622, 'epoch': 1.77}\n",
            "{'loss': 0.1108, 'learning_rate': 1.1032388663967611e-05, 'epoch': 1.78}\n",
            "{'eval_loss': 0.16922888159751892, 'eval_f1': 0.6560035698636177, 'eval_runtime': 6.0317, 'eval_samples_per_second': 114.396, 'epoch': 1.78}\n",
            "{'loss': 0.2955, 'learning_rate': 1.0526315789473684e-05, 'epoch': 1.79}\n",
            "{'eval_loss': 0.16994698345661163, 'eval_f1': 0.677039401079443, 'eval_runtime': 6.0837, 'eval_samples_per_second': 113.418, 'epoch': 1.79}\n",
            "{'loss': 0.3406, 'learning_rate': 1.0020242914979758e-05, 'epoch': 1.8}\n",
            "{'eval_loss': 0.16945093870162964, 'eval_f1': 0.6764731144752176, 'eval_runtime': 6.0423, 'eval_samples_per_second': 114.195, 'epoch': 1.8}\n",
            "{'loss': 0.3013, 'learning_rate': 9.51417004048583e-06, 'epoch': 1.81}\n",
            "{'eval_loss': 0.16890662908554077, 'eval_f1': 0.6789510831998425, 'eval_runtime': 6.2326, 'eval_samples_per_second': 110.708, 'epoch': 1.81}\n",
            "{'loss': 0.1658, 'learning_rate': 9.008097165991904e-06, 'epoch': 1.82}\n",
            "{'eval_loss': 0.16824111342430115, 'eval_f1': 0.6790831981699005, 'eval_runtime': 6.094, 'eval_samples_per_second': 113.225, 'epoch': 1.82}\n",
            "{'loss': 0.1794, 'learning_rate': 8.502024291497976e-06, 'epoch': 1.83}\n",
            "{'eval_loss': 0.16691038012504578, 'eval_f1': 0.6680638283332998, 'eval_runtime': 6.0752, 'eval_samples_per_second': 113.577, 'epoch': 1.83}\n",
            "{'loss': 0.1069, 'learning_rate': 7.99595141700405e-06, 'epoch': 1.84}\n",
            "{'eval_loss': 0.16795003414154053, 'eval_f1': 0.6446910051439229, 'eval_runtime': 6.0477, 'eval_samples_per_second': 114.092, 'epoch': 1.84}\n",
            "{'loss': 0.2136, 'learning_rate': 7.489878542510122e-06, 'epoch': 1.85}\n",
            "{'eval_loss': 0.1709159016609192, 'eval_f1': 0.6313943744606648, 'eval_runtime': 6.1034, 'eval_samples_per_second': 113.052, 'epoch': 1.85}\n",
            "{'loss': 0.1318, 'learning_rate': 6.983805668016195e-06, 'epoch': 1.86}\n",
            "{'eval_loss': 0.1722809225320816, 'eval_f1': 0.6231189947394041, 'eval_runtime': 6.0233, 'eval_samples_per_second': 114.555, 'epoch': 1.86}\n",
            "{'loss': 0.1611, 'learning_rate': 6.4777327935222675e-06, 'epoch': 1.87}\n",
            "{'eval_loss': 0.16971343755722046, 'eval_f1': 0.6380570160966913, 'eval_runtime': 6.0559, 'eval_samples_per_second': 113.939, 'epoch': 1.87}\n",
            "{'loss': 0.1353, 'learning_rate': 5.971659919028341e-06, 'epoch': 1.88}\n",
            "{'eval_loss': 0.16807278990745544, 'eval_f1': 0.6552307861564671, 'eval_runtime': 6.2443, 'eval_samples_per_second': 110.501, 'epoch': 1.88}\n",
            "{'loss': 0.4948, 'learning_rate': 5.465587044534413e-06, 'epoch': 1.89}\n",
            "{'eval_loss': 0.16737467050552368, 'eval_f1': 0.6713681130448478, 'eval_runtime': 6.0342, 'eval_samples_per_second': 114.349, 'epoch': 1.89}\n",
            "{'loss': 0.2181, 'learning_rate': 4.9595141700404865e-06, 'epoch': 1.9}\n",
            "{'eval_loss': 0.16716405749320984, 'eval_f1': 0.6732080240572098, 'eval_runtime': 6.0436, 'eval_samples_per_second': 114.17, 'epoch': 1.9}\n",
            "{'loss': 0.3225, 'learning_rate': 4.453441295546559e-06, 'epoch': 1.91}\n",
            "{'eval_loss': 0.16740311682224274, 'eval_f1': 0.6773350859095957, 'eval_runtime': 6.1145, 'eval_samples_per_second': 112.846, 'epoch': 1.91}\n",
            "{'loss': 0.4096, 'learning_rate': 3.9473684210526315e-06, 'epoch': 1.92}\n",
            "{'eval_loss': 0.16772684454917908, 'eval_f1': 0.6793088890596573, 'eval_runtime': 6.1975, 'eval_samples_per_second': 111.336, 'epoch': 1.92}\n",
            "{'loss': 0.0896, 'learning_rate': 3.4412955465587043e-06, 'epoch': 1.93}\n",
            "{'eval_loss': 0.16744157671928406, 'eval_f1': 0.6784270837183327, 'eval_runtime': 6.0415, 'eval_samples_per_second': 114.209, 'epoch': 1.93}\n",
            "{'loss': 0.1255, 'learning_rate': 2.9352226720647772e-06, 'epoch': 1.94}\n",
            "{'eval_loss': 0.167508065700531, 'eval_f1': 0.6766756867301958, 'eval_runtime': 6.0563, 'eval_samples_per_second': 113.93, 'epoch': 1.94}\n",
            "{'loss': 0.1741, 'learning_rate': 2.4291497975708505e-06, 'epoch': 1.95}\n",
            "{'eval_loss': 0.16766352951526642, 'eval_f1': 0.6725872106776669, 'eval_runtime': 6.2802, 'eval_samples_per_second': 109.869, 'epoch': 1.95}\n",
            "{'loss': 0.1404, 'learning_rate': 1.9230769230769234e-06, 'epoch': 1.96}\n",
            "{'eval_loss': 0.16813546419143677, 'eval_f1': 0.6676444013194632, 'eval_runtime': 6.2496, 'eval_samples_per_second': 110.408, 'epoch': 1.96}\n",
            "{'loss': 0.1271, 'learning_rate': 1.417004048582996e-06, 'epoch': 1.97}\n",
            "{'eval_loss': 0.16852401196956635, 'eval_f1': 0.6667288133676724, 'eval_runtime': 6.062, 'eval_samples_per_second': 113.824, 'epoch': 1.97}\n",
            "{'loss': 0.188, 'learning_rate': 9.109311740890688e-07, 'epoch': 1.98}\n",
            "{'eval_loss': 0.16871923208236694, 'eval_f1': 0.6639829190091129, 'eval_runtime': 6.0496, 'eval_samples_per_second': 114.058, 'epoch': 1.98}\n",
            "{'loss': 0.2117, 'learning_rate': 4.048582995951417e-07, 'epoch': 1.99}\n",
            "{'eval_loss': 0.16884329915046692, 'eval_f1': 0.6637754737121535, 'eval_runtime': 6.0485, 'eval_samples_per_second': 114.077, 'epoch': 1.99}\n",
            "{'train_runtime': 1687.3572, 'train_samples_per_second': 0.589, 'epoch': 2.0}\n"
          ],
          "name": "stdout"
        }
      ]
    },
    {
      "cell_type": "markdown",
      "metadata": {
        "id": "7VIb_ttg7aIH"
      },
      "source": [
        "# D. Results "
      ]
    },
    {
      "cell_type": "markdown",
      "metadata": {
        "id": "kDjLxU90F9AM"
      },
      "source": [
        "## D1. Prediction Evaulation\n",
        "\n"
      ]
    },
    {
      "cell_type": "code",
      "metadata": {
        "id": "aedwTUvv7LiG"
      },
      "source": [
        "def compute_metrics(pred, gold_char_offsets, val_offset_mapping, val_text_embeddings, val_sentences_info, threshold=-float('inf')):\n",
        "  predictions = pred.predictions.argmax(-1)\n",
        "  prediction_scores = pred.predictions\n",
        "\n",
        "  toxic_char_preds_object = character_offsets_with_thresholding(val_text_embeddings, val_offset_mapping, predictions, val_sentences_info, prediction_scores, threshold)\n",
        "  toxic_char_offsets = [span[0] for span in toxic_char_preds_object]\n",
        "\n",
        "  f1 = system_f1(toxic_char_offsets, gold_char_offsets)\n",
        "\n",
        "  return {'f1': f1}"
      ],
      "execution_count": null,
      "outputs": []
    },
    {
      "cell_type": "code",
      "metadata": {
        "id": "8UCTNAeI9379",
        "colab": {
          "base_uri": "https://localhost:8080/"
        },
        "outputId": "14e96a8b-7312-4d92-e2d1-408fcc2ee300"
      },
      "source": [
        "print(\"> Making Predictions on Test Set\")\n",
        "\n",
        "# Print final metrics\n",
        "val_results = compute_metrics(val_pred, val_spans, val_offset_mapping, val_text_embeddings, val_sentences_info, threshold=0.4)\n",
        "test_results = compute_metrics(test_pred, test_spans, test_offset_mapping, test_text_embeddings, val_sentences_info, threshold=0.4)\n",
        "print(f'\\n> Dev Scores: {val_results}')\n",
        "print(f'\\n> Test Scores: {test_results}')"
      ],
      "execution_count": 29,
      "outputs": [
        {
          "output_type": "stream",
          "text": [
            "> Making Predictions on Test Set\n",
            "\n",
            "> Dev Scores: {'f1': 0.6642386734848162}\n",
            "\n",
            "> Test Scores: {'f1': 0.6945823264888661}\n"
          ],
          "name": "stdout"
        }
      ]
    }
  ]
}