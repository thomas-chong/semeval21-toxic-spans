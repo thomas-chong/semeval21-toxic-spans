{
  "nbformat": 4,
  "nbformat_minor": 0,
  "metadata": {
    "accelerator": "GPU",
    "colab": {
      "name": "Toxic_Spans_Detection_Token_Level(Random).ipynb",
      "provenance": [],
      "collapsed_sections": [],
      "toc_visible": true
    },
    "kernelspec": {
      "display_name": "Python 3",
      "name": "python3"
    },
    "language_info": {
      "name": "python"
    }
  },
  "cells": [
    {
      "cell_type": "code",
      "metadata": {
        "id": "c2PCY2IR1F8t"
      },
      "source": [
        "!pip install transformers"
      ],
      "execution_count": null,
      "outputs": []
    },
    {
      "cell_type": "code",
      "metadata": {
        "id": "TzhAQYKj3oil"
      },
      "source": [
        "import ast\n",
        "import csv\n",
        "import itertools\n",
        "import string\n",
        "import sys\n",
        "import time\n",
        "import torch\n",
        "import numpy as np\n",
        "import pandas as pd \n",
        "import json\n",
        "import random\n",
        "import time\n",
        "import ast\n",
        "import argparse\n",
        "from collections import defaultdict"
      ],
      "execution_count": null,
      "outputs": []
    },
    {
      "cell_type": "markdown",
      "metadata": {
        "id": "aRhIjeXQ_J2z"
      },
      "source": [
        "# A. Data Preprocessing"
      ]
    },
    {
      "cell_type": "code",
      "metadata": {
        "colab": {
          "base_uri": "https://localhost:8080/",
          "height": 221
        },
        "id": "o5t6m2vi_i99",
        "outputId": "24a325d7-004d-413b-fbce-513923e6b6e5"
      },
      "source": [
        "import pandas as pd\n",
        "from ast import literal_eval\n",
        "\n",
        "# Data Visualization\n",
        "train = pd.read_csv(\"tsd_train.csv\")\n",
        "train[\"spans\"] = train.spans.apply(literal_eval)\n",
        "print(\"Train Data Example\")\n",
        "train.head(5)"
      ],
      "execution_count": null,
      "outputs": [
        {
          "output_type": "stream",
          "text": [
            "Train Data Example\n"
          ],
          "name": "stdout"
        },
        {
          "output_type": "execute_result",
          "data": {
            "text/html": [
              "<div>\n",
              "<style scoped>\n",
              "    .dataframe tbody tr th:only-of-type {\n",
              "        vertical-align: middle;\n",
              "    }\n",
              "\n",
              "    .dataframe tbody tr th {\n",
              "        vertical-align: top;\n",
              "    }\n",
              "\n",
              "    .dataframe thead th {\n",
              "        text-align: right;\n",
              "    }\n",
              "</style>\n",
              "<table border=\"1\" class=\"dataframe\">\n",
              "  <thead>\n",
              "    <tr style=\"text-align: right;\">\n",
              "      <th></th>\n",
              "      <th>spans</th>\n",
              "      <th>text</th>\n",
              "    </tr>\n",
              "  </thead>\n",
              "  <tbody>\n",
              "    <tr>\n",
              "      <th>0</th>\n",
              "      <td>[8, 9, 10, 11, 12, 13, 14, 15, 16, 17, 18, 19,...</td>\n",
              "      <td>Another violent and aggressive immigrant killi...</td>\n",
              "    </tr>\n",
              "    <tr>\n",
              "      <th>1</th>\n",
              "      <td>[33, 34, 35, 36, 37, 38, 39]</td>\n",
              "      <td>I am 56 years old, I am not your fucking junio...</td>\n",
              "    </tr>\n",
              "    <tr>\n",
              "      <th>2</th>\n",
              "      <td>[0, 1, 2, 3]</td>\n",
              "      <td>Damn, a whole family. Sad indeed.</td>\n",
              "    </tr>\n",
              "    <tr>\n",
              "      <th>3</th>\n",
              "      <td>[7, 8, 9, 10, 11, 12, 13, 14, 15, 16, 17]</td>\n",
              "      <td>What a knucklehead. How can anyone not know th...</td>\n",
              "    </tr>\n",
              "    <tr>\n",
              "      <th>4</th>\n",
              "      <td>[32, 33, 34, 35, 36, 37, 38]</td>\n",
              "      <td>\"who do you think should do the killing?\"\\n\\nA...</td>\n",
              "    </tr>\n",
              "  </tbody>\n",
              "</table>\n",
              "</div>"
            ],
            "text/plain": [
              "                                               spans                                               text\n",
              "0  [8, 9, 10, 11, 12, 13, 14, 15, 16, 17, 18, 19,...  Another violent and aggressive immigrant killi...\n",
              "1                       [33, 34, 35, 36, 37, 38, 39]  I am 56 years old, I am not your fucking junio...\n",
              "2                                       [0, 1, 2, 3]                  Damn, a whole family. Sad indeed.\n",
              "3          [7, 8, 9, 10, 11, 12, 13, 14, 15, 16, 17]  What a knucklehead. How can anyone not know th...\n",
              "4                       [32, 33, 34, 35, 36, 37, 38]  \"who do you think should do the killing?\"\\n\\nA..."
            ]
          },
          "metadata": {
            "tags": []
          },
          "execution_count": 3
        }
      ]
    },
    {
      "cell_type": "code",
      "metadata": {
        "colab": {
          "base_uri": "https://localhost:8080/",
          "height": 221
        },
        "id": "OWnqKKzCGqKq",
        "outputId": "ca97c0f3-f829-4ec1-9e9a-08750a6c3cf5"
      },
      "source": [
        "# Data Visualization\n",
        "trial = pd.read_csv(\"tsd_trial.csv\")\n",
        "trial[\"spans\"] = trial.spans.apply(literal_eval)\n",
        "print(\"Test Data Example\")\n",
        "trial.head(5)"
      ],
      "execution_count": null,
      "outputs": [
        {
          "output_type": "stream",
          "text": [
            "Test Data Example\n"
          ],
          "name": "stdout"
        },
        {
          "output_type": "execute_result",
          "data": {
            "text/html": [
              "<div>\n",
              "<style scoped>\n",
              "    .dataframe tbody tr th:only-of-type {\n",
              "        vertical-align: middle;\n",
              "    }\n",
              "\n",
              "    .dataframe tbody tr th {\n",
              "        vertical-align: top;\n",
              "    }\n",
              "\n",
              "    .dataframe thead th {\n",
              "        text-align: right;\n",
              "    }\n",
              "</style>\n",
              "<table border=\"1\" class=\"dataframe\">\n",
              "  <thead>\n",
              "    <tr style=\"text-align: right;\">\n",
              "      <th></th>\n",
              "      <th>spans</th>\n",
              "      <th>text</th>\n",
              "    </tr>\n",
              "  </thead>\n",
              "  <tbody>\n",
              "    <tr>\n",
              "      <th>0</th>\n",
              "      <td>[15, 16, 17, 18, 19, 27, 28, 29, 30, 31]</td>\n",
              "      <td>Because he's a moron and a bigot. It's not any...</td>\n",
              "    </tr>\n",
              "    <tr>\n",
              "      <th>1</th>\n",
              "      <td>[29, 30, 31, 32, 33, 34]</td>\n",
              "      <td>How about we stop protecting idiots and let na...</td>\n",
              "    </tr>\n",
              "    <tr>\n",
              "      <th>2</th>\n",
              "      <td>[166, 167, 168, 169, 170, 171]</td>\n",
              "      <td>If people  were  smart, they would  Boycott th...</td>\n",
              "    </tr>\n",
              "    <tr>\n",
              "      <th>3</th>\n",
              "      <td>[87, 88, 89, 90, 91, 92]</td>\n",
              "      <td>Trump Claimed that Russia will never invade th...</td>\n",
              "    </tr>\n",
              "    <tr>\n",
              "      <th>4</th>\n",
              "      <td>[]</td>\n",
              "      <td>As long as your willing to pay a lot more for ...</td>\n",
              "    </tr>\n",
              "  </tbody>\n",
              "</table>\n",
              "</div>"
            ],
            "text/plain": [
              "                                      spans                                               text\n",
              "0  [15, 16, 17, 18, 19, 27, 28, 29, 30, 31]  Because he's a moron and a bigot. It's not any...\n",
              "1                  [29, 30, 31, 32, 33, 34]  How about we stop protecting idiots and let na...\n",
              "2            [166, 167, 168, 169, 170, 171]  If people  were  smart, they would  Boycott th...\n",
              "3                  [87, 88, 89, 90, 91, 92]  Trump Claimed that Russia will never invade th...\n",
              "4                                        []  As long as your willing to pay a lot more for ..."
            ]
          },
          "metadata": {
            "tags": []
          },
          "execution_count": 4
        }
      ]
    },
    {
      "cell_type": "code",
      "metadata": {
        "colab": {
          "base_uri": "https://localhost:8080/",
          "height": 221
        },
        "id": "ZVQj6wftlfum",
        "outputId": "3438e65c-5513-491d-d410-fdce993d56ca"
      },
      "source": [
        "# Data Visualization\n",
        "test = pd.read_csv(\"tsd_test.csv\")\n",
        "test[\"spans\"] = test.spans.apply(literal_eval)\n",
        "print(\"Test Data Example\")\n",
        "test.head(5)"
      ],
      "execution_count": null,
      "outputs": [
        {
          "output_type": "stream",
          "text": [
            "Test Data Example\n"
          ],
          "name": "stdout"
        },
        {
          "output_type": "execute_result",
          "data": {
            "text/html": [
              "<div>\n",
              "<style scoped>\n",
              "    .dataframe tbody tr th:only-of-type {\n",
              "        vertical-align: middle;\n",
              "    }\n",
              "\n",
              "    .dataframe tbody tr th {\n",
              "        vertical-align: top;\n",
              "    }\n",
              "\n",
              "    .dataframe thead th {\n",
              "        text-align: right;\n",
              "    }\n",
              "</style>\n",
              "<table border=\"1\" class=\"dataframe\">\n",
              "  <thead>\n",
              "    <tr style=\"text-align: right;\">\n",
              "      <th></th>\n",
              "      <th>spans</th>\n",
              "      <th>text</th>\n",
              "    </tr>\n",
              "  </thead>\n",
              "  <tbody>\n",
              "    <tr>\n",
              "      <th>0</th>\n",
              "      <td>[84, 85, 86, 87, 88, 89, 90, 91, 133, 134, 135...</td>\n",
              "      <td>That's right. They are not normal. And I am st...</td>\n",
              "    </tr>\n",
              "    <tr>\n",
              "      <th>1</th>\n",
              "      <td>[81, 82, 83, 84, 85, 86]</td>\n",
              "      <td>\"Watch people die from taking away their healt...</td>\n",
              "    </tr>\n",
              "    <tr>\n",
              "      <th>2</th>\n",
              "      <td>[]</td>\n",
              "      <td>tens years ago i contacted the PDR and suggest...</td>\n",
              "    </tr>\n",
              "    <tr>\n",
              "      <th>3</th>\n",
              "      <td>[]</td>\n",
              "      <td>The parallels between the ANC and the Sicilian...</td>\n",
              "    </tr>\n",
              "    <tr>\n",
              "      <th>4</th>\n",
              "      <td>[]</td>\n",
              "      <td>Intel Community: ‘How can we work for a Presid...</td>\n",
              "    </tr>\n",
              "  </tbody>\n",
              "</table>\n",
              "</div>"
            ],
            "text/plain": [
              "                                               spans                                               text\n",
              "0  [84, 85, 86, 87, 88, 89, 90, 91, 133, 134, 135...  That's right. They are not normal. And I am st...\n",
              "1                           [81, 82, 83, 84, 85, 86]  \"Watch people die from taking away their healt...\n",
              "2                                                 []  tens years ago i contacted the PDR and suggest...\n",
              "3                                                 []  The parallels between the ANC and the Sicilian...\n",
              "4                                                 []  Intel Community: ‘How can we work for a Presid..."
            ]
          },
          "metadata": {
            "tags": []
          },
          "execution_count": 5
        }
      ]
    },
    {
      "cell_type": "markdown",
      "metadata": {
        "id": "4WL3cIN0mN5B"
      },
      "source": [
        "# B. F1 Score"
      ]
    },
    {
      "cell_type": "code",
      "metadata": {
        "id": "4PF4M7xYmHf-"
      },
      "source": [
        "# Referenced by SemEval 2021 Task Organizers' Sample Code: https://github.com/ipavlopoulos/toxic_spans\n",
        "\n",
        "def f1(predictions, gold):\n",
        "    \"\"\"\n",
        "    F1 (a.k.a. DICE) operating on two lists of offsets (e.g., character).\n",
        "    >>> assert f1([0, 1, 4, 5], [0, 1, 6]) == 0.5714285714285714\n",
        "    :param predictions: a list of predicted offsets\n",
        "    :param gold: a list of offsets serving as the ground truth\n",
        "    :return: a score between 0 and 1\n",
        "    \"\"\"\n",
        "    if len(gold) == 0:\n",
        "        return 1 if len(predictions)==0 else 0\n",
        "    nom = 2*len(set(predictions).intersection(set(gold)))\n",
        "    denom = len(set(predictions))+len(set(gold))\n",
        "    return nom/denom"
      ],
      "execution_count": null,
      "outputs": []
    },
    {
      "cell_type": "markdown",
      "metadata": {
        "id": "oJfWBQVl7Hyc"
      },
      "source": [
        "# C. Random Baselines (Trial)\n",
        "\n"
      ]
    },
    {
      "cell_type": "code",
      "metadata": {
        "id": "mrubsi_UlIK5"
      },
      "source": [
        "# build a random baseline (yields offsets at random)\n",
        "random_baseline = lambda text: [i for i, char in enumerate(text) if random.random()>0.5]"
      ],
      "execution_count": null,
      "outputs": []
    },
    {
      "cell_type": "code",
      "metadata": {
        "colab": {
          "base_uri": "https://localhost:8080/",
          "height": 204
        },
        "id": "V0tu2AUWlJRp",
        "outputId": "87478556-1a28-4e08-e2ba-7d168e3393c4"
      },
      "source": [
        "trial[\"random_predictions\"] = trial.text.apply(random_baseline)\n",
        "trial[\"f1_scores\"] = trial.apply(lambda row: f1(row.random_predictions, row.spans), axis=1)\n",
        "trial.head()"
      ],
      "execution_count": null,
      "outputs": [
        {
          "output_type": "execute_result",
          "data": {
            "text/html": [
              "<div>\n",
              "<style scoped>\n",
              "    .dataframe tbody tr th:only-of-type {\n",
              "        vertical-align: middle;\n",
              "    }\n",
              "\n",
              "    .dataframe tbody tr th {\n",
              "        vertical-align: top;\n",
              "    }\n",
              "\n",
              "    .dataframe thead th {\n",
              "        text-align: right;\n",
              "    }\n",
              "</style>\n",
              "<table border=\"1\" class=\"dataframe\">\n",
              "  <thead>\n",
              "    <tr style=\"text-align: right;\">\n",
              "      <th></th>\n",
              "      <th>spans</th>\n",
              "      <th>text</th>\n",
              "      <th>random_predictions</th>\n",
              "      <th>f1_scores</th>\n",
              "    </tr>\n",
              "  </thead>\n",
              "  <tbody>\n",
              "    <tr>\n",
              "      <th>0</th>\n",
              "      <td>[15, 16, 17, 18, 19, 27, 28, 29, 30, 31]</td>\n",
              "      <td>Because he's a moron and a bigot. It's not any...</td>\n",
              "      <td>[0, 1, 3, 4, 8, 12, 14, 17, 18, 19, 20, 21, 22...</td>\n",
              "      <td>0.244898</td>\n",
              "    </tr>\n",
              "    <tr>\n",
              "      <th>1</th>\n",
              "      <td>[29, 30, 31, 32, 33, 34]</td>\n",
              "      <td>How about we stop protecting idiots and let na...</td>\n",
              "      <td>[2, 4, 5, 9, 10, 11, 12, 15, 17, 18, 19, 21, 2...</td>\n",
              "      <td>0.078947</td>\n",
              "    </tr>\n",
              "    <tr>\n",
              "      <th>2</th>\n",
              "      <td>[166, 167, 168, 169, 170, 171]</td>\n",
              "      <td>If people  were  smart, they would  Boycott th...</td>\n",
              "      <td>[2, 3, 4, 6, 8, 9, 12, 14, 15, 17, 19, 22, 28,...</td>\n",
              "      <td>0.094118</td>\n",
              "    </tr>\n",
              "    <tr>\n",
              "      <th>3</th>\n",
              "      <td>[87, 88, 89, 90, 91, 92]</td>\n",
              "      <td>Trump Claimed that Russia will never invade th...</td>\n",
              "      <td>[0, 2, 3, 4, 7, 10, 11, 13, 15, 17, 19, 20, 22...</td>\n",
              "      <td>0.070175</td>\n",
              "    </tr>\n",
              "    <tr>\n",
              "      <th>4</th>\n",
              "      <td>[]</td>\n",
              "      <td>As long as your willing to pay a lot more for ...</td>\n",
              "      <td>[0, 3, 5, 7, 8, 9, 10, 12, 14, 15, 17, 20, 21,...</td>\n",
              "      <td>0.000000</td>\n",
              "    </tr>\n",
              "  </tbody>\n",
              "</table>\n",
              "</div>"
            ],
            "text/plain": [
              "                                      spans  ... f1_scores\n",
              "0  [15, 16, 17, 18, 19, 27, 28, 29, 30, 31]  ...  0.244898\n",
              "1                  [29, 30, 31, 32, 33, 34]  ...  0.078947\n",
              "2            [166, 167, 168, 169, 170, 171]  ...  0.094118\n",
              "3                  [87, 88, 89, 90, 91, 92]  ...  0.070175\n",
              "4                                        []  ...  0.000000\n",
              "\n",
              "[5 rows x 4 columns]"
            ]
          },
          "metadata": {
            "tags": []
          },
          "execution_count": 14
        }
      ]
    },
    {
      "cell_type": "code",
      "metadata": {
        "colab": {
          "base_uri": "https://localhost:8080/",
          "height": 283
        },
        "id": "jl8F9ip_mCj0",
        "outputId": "c9031e6c-3b7d-4c8d-99dd-e13b60f7fecb"
      },
      "source": [
        "# Referenced by SemEval 2021 Task Organizers' Sample Code: https://github.com/ipavlopoulos/toxic_spans\n",
        "\n",
        "from scipy.stats import sem\n",
        "_ = trial.f1_scores.plot(kind=\"box\")\n",
        "print (f\"F1 = {trial.f1_scores.mean():.2f} ± {sem(trial.f1_scores):.2f}\")"
      ],
      "execution_count": null,
      "outputs": [
        {
          "output_type": "stream",
          "text": [
            "F1 = 0.18 ± 0.01\n"
          ],
          "name": "stdout"
        },
        {
          "output_type": "display_data",
          "data": {
            "image/png": "[encoded data removed]",
            "text/plain": [
              "<Figure size 432x288 with 1 Axes>"
            ]
          },
          "metadata": {
            "tags": [],
            "needs_background": "light"
          }
        }
      ]
    },
    {
      "cell_type": "markdown",
      "metadata": {
        "id": "RnPKkchHl05l"
      },
      "source": [
        "# D. Random Baselines (Test)"
      ]
    },
    {
      "cell_type": "code",
      "metadata": {
        "colab": {
          "base_uri": "https://localhost:8080/",
          "height": 204
        },
        "id": "kxCFNpusl6LH",
        "outputId": "340d44f8-f212-400c-fb7a-cd042eaa0a42"
      },
      "source": [
        "test[\"random_predictions\"] = test.text.apply(random_baseline)\n",
        "test[\"f1_scores\"] = test.apply(lambda row: f1(row.random_predictions, row.spans), axis=1)\n",
        "test.head()"
      ],
      "execution_count": null,
      "outputs": [
        {
          "output_type": "execute_result",
          "data": {
            "text/html": [
              "<div>\n",
              "<style scoped>\n",
              "    .dataframe tbody tr th:only-of-type {\n",
              "        vertical-align: middle;\n",
              "    }\n",
              "\n",
              "    .dataframe tbody tr th {\n",
              "        vertical-align: top;\n",
              "    }\n",
              "\n",
              "    .dataframe thead th {\n",
              "        text-align: right;\n",
              "    }\n",
              "</style>\n",
              "<table border=\"1\" class=\"dataframe\">\n",
              "  <thead>\n",
              "    <tr style=\"text-align: right;\">\n",
              "      <th></th>\n",
              "      <th>spans</th>\n",
              "      <th>text</th>\n",
              "      <th>random_predictions</th>\n",
              "      <th>f1_scores</th>\n",
              "    </tr>\n",
              "  </thead>\n",
              "  <tbody>\n",
              "    <tr>\n",
              "      <th>0</th>\n",
              "      <td>[84, 85, 86, 87, 88, 89, 90, 91, 133, 134, 135...</td>\n",
              "      <td>That's right. They are not normal. And I am st...</td>\n",
              "      <td>[1, 2, 4, 7, 10, 14, 15, 22, 25, 26, 28, 29, 3...</td>\n",
              "      <td>0.266667</td>\n",
              "    </tr>\n",
              "    <tr>\n",
              "      <th>1</th>\n",
              "      <td>[81, 82, 83, 84, 85, 86]</td>\n",
              "      <td>\"Watch people die from taking away their healt...</td>\n",
              "      <td>[1, 4, 5, 6, 7, 8, 12, 14, 16, 17, 20, 21, 24,...</td>\n",
              "      <td>0.163934</td>\n",
              "    </tr>\n",
              "    <tr>\n",
              "      <th>2</th>\n",
              "      <td>[]</td>\n",
              "      <td>tens years ago i contacted the PDR and suggest...</td>\n",
              "      <td>[2, 4, 5, 9, 11, 13, 15, 16, 17, 21, 28, 29, 3...</td>\n",
              "      <td>0.000000</td>\n",
              "    </tr>\n",
              "    <tr>\n",
              "      <th>3</th>\n",
              "      <td>[]</td>\n",
              "      <td>The parallels between the ANC and the Sicilian...</td>\n",
              "      <td>[0, 4, 6, 8, 9, 10, 11, 13, 16, 17, 19, 20, 21...</td>\n",
              "      <td>0.000000</td>\n",
              "    </tr>\n",
              "    <tr>\n",
              "      <th>4</th>\n",
              "      <td>[]</td>\n",
              "      <td>Intel Community: ‘How can we work for a Presid...</td>\n",
              "      <td>[0, 4, 5, 6, 8, 12, 14, 17, 20, 21, 22, 23, 24...</td>\n",
              "      <td>0.000000</td>\n",
              "    </tr>\n",
              "  </tbody>\n",
              "</table>\n",
              "</div>"
            ],
            "text/plain": [
              "                                               spans  ... f1_scores\n",
              "0  [84, 85, 86, 87, 88, 89, 90, 91, 133, 134, 135...  ...  0.266667\n",
              "1                           [81, 82, 83, 84, 85, 86]  ...  0.163934\n",
              "2                                                 []  ...  0.000000\n",
              "3                                                 []  ...  0.000000\n",
              "4                                                 []  ...  0.000000\n",
              "\n",
              "[5 rows x 4 columns]"
            ]
          },
          "metadata": {
            "tags": []
          },
          "execution_count": 11
        }
      ]
    },
    {
      "cell_type": "code",
      "metadata": {
        "colab": {
          "base_uri": "https://localhost:8080/",
          "height": 283
        },
        "id": "QKTWBKNjlvwj",
        "outputId": "0649213b-a750-497f-c840-dd9ac07da94e"
      },
      "source": [
        "# Referenced by SemEval 2021 Task Organizers' Sample Code: https://github.com/ipavlopoulos/toxic_spans\n",
        "\n",
        "from scipy.stats import sem\n",
        "_ = test.f1_scores.plot(kind=\"box\")\n",
        "print (f\"F1 = {test.f1_scores.mean():.2f} ± {sem(test.f1_scores):.2f}\")"
      ],
      "execution_count": null,
      "outputs": [
        {
          "output_type": "stream",
          "text": [
            "F1 = 0.12 ± 0.00\n"
          ],
          "name": "stdout"
        },
        {
          "output_type": "display_data",
          "data": {
            "image/png": "[encoded data removed]",
            "text/plain": [
              "<Figure size 432x288 with 1 Axes>"
            ]
          },
          "metadata": {
            "tags": [],
            "needs_background": "light"
          }
        }
      ]
    }
  ]
}